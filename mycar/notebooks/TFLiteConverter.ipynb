{
 "cells": [
  {
   "cell_type": "code",
   "execution_count": 1,
   "id": "2e59244d-9b64-4808-aa58-8d2cafb7682f",
   "metadata": {},
   "outputs": [
    {
     "name": "stdout",
     "output_type": "stream",
     "text": [
      "/gpfs/space/home/zaliznyi\n",
      "core.178524\t\t       jupyter-zaliznyi.36319736.out\n",
      "core.47197\t\t       jupyter-zaliznyi.36323929.log\n",
      "donkey.job\t\t       jupyter-zaliznyi.36323929.out\n",
      "jupyter-zaliznyi.36258456.log  miniconda3\n",
      "jupyter-zaliznyi.36258456.out  Miniconda3-latest-Linux-x86_64.sh\n",
      "jupyter-zaliznyi.36280898.log  mycar\n",
      "jupyter-zaliznyi.36280898.out  pedestrian_detector_v2.0\n",
      "jupyter-zaliznyi.36281650.log  Pedestrian.ipynb\n",
      "jupyter-zaliznyi.36281650.out  PedestrianTorch.ipynb\n",
      "jupyter-zaliznyi.36281900.log  projects\n",
      "jupyter-zaliznyi.36281900.out  TFLiteConverter.ipynb\n",
      "jupyter-zaliznyi.36319736.log\n"
     ]
    }
   ],
   "source": [
    "!pwd\n",
    "!ls"
   ]
  },
  {
   "cell_type": "code",
   "execution_count": 1,
   "id": "ea1ac122-566a-481c-84e3-6a7ec40b14c6",
   "metadata": {},
   "outputs": [],
   "source": [
    "import os\n",
    "import time\n",
    "import tensorflow as tf\n",
    "import numpy as np"
   ]
  },
  {
   "cell_type": "code",
   "execution_count": 2,
   "id": "e59170f6-2812-4085-a81e-c61eb5e4f627",
   "metadata": {},
   "outputs": [],
   "source": [
    "model_path = \"/gpfs/space/home/zaliznyi/pedestrian_detector_v2.0\"\n",
    "tflite_model_path = \"/gpfs/space/home/zaliznyi/pedestrian_detector_v2.0.tflite\""
   ]
  },
  {
   "cell_type": "code",
   "execution_count": 16,
   "id": "6b648d44-1c4b-4c17-a951-cc872bbbbd13",
   "metadata": {},
   "outputs": [
    {
     "name": "stdout",
     "output_type": "stream",
     "text": [
      "/gpfs/space/home/zaliznyi/miniconda3/envs/donkey/bin\n",
      "/gpfs/space/software/cluster_software/spack/linux-centos7-x86_64/gcc-9.2.0/git-2.35.2-pkznwh5mpp74zq6p42b47pxpgbxxrgwk/bin:/gpfs/space/software/cluster_software/spack/linux-centos7-x86_64/gcc-9.2.0/perl-5.34.1-4ryb2w6tlh6ha54x25kkpq7l5zjq56do/bin:/gpfs/space/software/cluster_software/spack/linux-centos7-x86_64/gcc-9.2.0/pcre2-10.36-viek2bpe7b5ktcr3qpyl2qhipy2ybjxs/bin:/gpfs/space/software/cluster_software/spack/linux-centos7-x86_64/gcc-9.2.0/openssh-9.0p1-xuo4l7k2kii6nqw2x2t22jqghijrsdgi/bin:/gpfs/space/software/cluster_software/spack/linux-centos7-x86_64/gcc-9.2.0/curl-7.83.0-yzcvzf3nqftyqhrki2zketnom3lbg3kf/bin:/gpfs/space/software/cluster_software/spack/linux-centos7-x86_64/gcc-9.2.0/openssl-1.1.1o-m6uvz6ittrnhnwd3oftfljxqwkve44j7/bin:/gpfs/space/software/cluster_software/spack/linux-centos7-x86_64/gcc-9.2.0/libidn2-2.3.0-qmmoo5lcgqh4crq2cbbwqe26b6ujugzx/bin:/gpfs/space/software/cluster_software/spack/linux-centos7-x86_64/gcc-9.2.0/libiconv-1.16-lgagwi6e52rlrjftg6bkfywcghlgdw3b/bin:/gpfs/space/software/jupyterhub/python/jupyter/bin:/sbin:/bin:/usr/sbin:/usr/bin:/gpfs/space/home/zaliznyi/miniconda3/envs/donkey/bin\n"
     ]
    }
   ],
   "source": [
    "# Workaround for this bug https://github.com/tensorflow/tensorflow/issues/34698\n",
    "bin_path = os.path.dirname(os.sys.executable)\n",
    "if 'PATH' in os.environ:\n",
    "    os.environ['PATH'] += ':' + bin_path\n",
    "else:\n",
    "    os.environ['PATH'] = bin_path\n",
    "print(bin_path)\n",
    "print(os.environ['PATH'])"
   ]
  },
  {
   "cell_type": "code",
   "execution_count": 17,
   "id": "aae8466c-102a-4eb0-b04d-a7074d1d8517",
   "metadata": {},
   "outputs": [
    {
     "name": "stderr",
     "output_type": "stream",
     "text": [
      "2022-12-04 15:48:38.614056: I tensorflow/core/grappler/devices.cc:55] Number of eligible GPUs (core count >= 8, compute capability >= 0.0): 1\n",
      "2022-12-04 15:48:38.614167: I tensorflow/core/grappler/clusters/single_machine.cc:356] Starting new session\n",
      "2022-12-04 15:48:38.615084: I tensorflow/core/common_runtime/gpu/gpu_device.cc:1561] Found device 0 with properties: \n",
      "pciBusID: 0000:1a:00.0 name: Tesla V100-SXM2-32GB computeCapability: 7.0\n",
      "coreClock: 1.53GHz coreCount: 80 deviceMemorySize: 31.75GiB deviceMemoryBandwidth: 836.37GiB/s\n",
      "2022-12-04 15:48:38.615144: I tensorflow/stream_executor/platform/default/dso_loader.cc:44] Successfully opened dynamic library libcudart.so.10.1\n",
      "2022-12-04 15:48:38.615161: I tensorflow/stream_executor/platform/default/dso_loader.cc:44] Successfully opened dynamic library libcublas.so.10\n",
      "2022-12-04 15:48:38.615174: I tensorflow/stream_executor/platform/default/dso_loader.cc:44] Successfully opened dynamic library libcufft.so.10\n",
      "2022-12-04 15:48:38.615188: I tensorflow/stream_executor/platform/default/dso_loader.cc:44] Successfully opened dynamic library libcurand.so.10\n",
      "2022-12-04 15:48:38.615201: I tensorflow/stream_executor/platform/default/dso_loader.cc:44] Successfully opened dynamic library libcusolver.so.10\n",
      "2022-12-04 15:48:38.615214: I tensorflow/stream_executor/platform/default/dso_loader.cc:44] Successfully opened dynamic library libcusparse.so.10\n",
      "2022-12-04 15:48:38.615228: I tensorflow/stream_executor/platform/default/dso_loader.cc:44] Successfully opened dynamic library libcudnn.so.7\n",
      "2022-12-04 15:48:38.616188: I tensorflow/core/common_runtime/gpu/gpu_device.cc:1703] Adding visible gpu devices: 0\n",
      "2022-12-04 15:48:38.616221: I tensorflow/core/common_runtime/gpu/gpu_device.cc:1102] Device interconnect StreamExecutor with strength 1 edge matrix:\n",
      "2022-12-04 15:48:38.616229: I tensorflow/core/common_runtime/gpu/gpu_device.cc:1108]      0 \n",
      "2022-12-04 15:48:38.616236: I tensorflow/core/common_runtime/gpu/gpu_device.cc:1121] 0:   N \n",
      "2022-12-04 15:48:38.617228: I tensorflow/core/common_runtime/gpu/gpu_device.cc:1247] Created TensorFlow device (/job:localhost/replica:0/task:0/device:GPU:0 with 30271 MB memory) -> physical GPU (device: 0, name: Tesla V100-SXM2-32GB, pci bus id: 0000:1a:00.0, compute capability: 7.0)\n",
      "2022-12-04 15:48:38.621456: I tensorflow/core/grappler/optimizers/meta_optimizer.cc:797] Optimization results for grappler item: graph_to_optimize\n",
      "2022-12-04 15:48:38.621479: I tensorflow/core/grappler/optimizers/meta_optimizer.cc:799]   function_optimizer: Graph size after: 57 nodes (44), 79 edges (66), time = 2.059ms.\n",
      "2022-12-04 15:48:38.621487: I tensorflow/core/grappler/optimizers/meta_optimizer.cc:799]   function_optimizer: function_optimizer did nothing. time = 0.062ms.\n",
      "2022-12-04 15:48:38.709328: I tensorflow/core/grappler/devices.cc:55] Number of eligible GPUs (core count >= 8, compute capability >= 0.0): 1\n",
      "2022-12-04 15:48:38.709432: I tensorflow/core/grappler/clusters/single_machine.cc:356] Starting new session\n",
      "2022-12-04 15:48:38.710454: I tensorflow/core/common_runtime/gpu/gpu_device.cc:1561] Found device 0 with properties: \n",
      "pciBusID: 0000:1a:00.0 name: Tesla V100-SXM2-32GB computeCapability: 7.0\n",
      "coreClock: 1.53GHz coreCount: 80 deviceMemorySize: 31.75GiB deviceMemoryBandwidth: 836.37GiB/s\n",
      "2022-12-04 15:48:38.710507: I tensorflow/stream_executor/platform/default/dso_loader.cc:44] Successfully opened dynamic library libcudart.so.10.1\n",
      "2022-12-04 15:48:38.710523: I tensorflow/stream_executor/platform/default/dso_loader.cc:44] Successfully opened dynamic library libcublas.so.10\n",
      "2022-12-04 15:48:38.710537: I tensorflow/stream_executor/platform/default/dso_loader.cc:44] Successfully opened dynamic library libcufft.so.10\n",
      "2022-12-04 15:48:38.710550: I tensorflow/stream_executor/platform/default/dso_loader.cc:44] Successfully opened dynamic library libcurand.so.10\n",
      "2022-12-04 15:48:38.710563: I tensorflow/stream_executor/platform/default/dso_loader.cc:44] Successfully opened dynamic library libcusolver.so.10\n",
      "2022-12-04 15:48:38.710576: I tensorflow/stream_executor/platform/default/dso_loader.cc:44] Successfully opened dynamic library libcusparse.so.10\n",
      "2022-12-04 15:48:38.710589: I tensorflow/stream_executor/platform/default/dso_loader.cc:44] Successfully opened dynamic library libcudnn.so.7\n",
      "2022-12-04 15:48:38.711534: I tensorflow/core/common_runtime/gpu/gpu_device.cc:1703] Adding visible gpu devices: 0\n",
      "2022-12-04 15:48:38.711566: I tensorflow/core/common_runtime/gpu/gpu_device.cc:1102] Device interconnect StreamExecutor with strength 1 edge matrix:\n",
      "2022-12-04 15:48:38.711575: I tensorflow/core/common_runtime/gpu/gpu_device.cc:1108]      0 \n",
      "2022-12-04 15:48:38.711582: I tensorflow/core/common_runtime/gpu/gpu_device.cc:1121] 0:   N \n",
      "2022-12-04 15:48:38.712562: I tensorflow/core/common_runtime/gpu/gpu_device.cc:1247] Created TensorFlow device (/job:localhost/replica:0/task:0/device:GPU:0 with 30271 MB memory) -> physical GPU (device: 0, name: Tesla V100-SXM2-32GB, pci bus id: 0000:1a:00.0, compute capability: 7.0)\n",
      "2022-12-04 15:48:38.765989: I tensorflow/core/grappler/optimizers/meta_optimizer.cc:797] Optimization results for grappler item: graph_to_optimize\n",
      "2022-12-04 15:48:38.766026: I tensorflow/core/grappler/optimizers/meta_optimizer.cc:799]   constant_folding: Graph size after: 47 nodes (-10), 59 edges (-20), time = 36.301ms.\n",
      "2022-12-04 15:48:38.766035: I tensorflow/core/grappler/optimizers/meta_optimizer.cc:799]   constant_folding: Graph size after: 47 nodes (0), 59 edges (0), time = 6.372ms.\n"
     ]
    }
   ],
   "source": [
    "converter = tf.lite.TFLiteConverter.from_saved_model(model_path)\n",
    "tflite_model = converter.convert()\n",
    "with open(tflite_model_path, 'wb') as f:\n",
    "    f.write(tflite_model)"
   ]
  },
  {
   "cell_type": "code",
   "execution_count": 3,
   "id": "1894df95-6828-4317-8cbd-52bd23ef742b",
   "metadata": {},
   "outputs": [
    {
     "name": "stderr",
     "output_type": "stream",
     "text": [
      "2022-12-04 16:03:07.104466: I tensorflow/stream_executor/platform/default/dso_loader.cc:44] Successfully opened dynamic library libcuda.so.1\n",
      "2022-12-04 16:03:08.316961: I tensorflow/core/common_runtime/gpu/gpu_device.cc:1561] Found device 0 with properties: \n",
      "pciBusID: 0000:8a:00.0 name: Tesla V100-PCIE-32GB computeCapability: 7.0\n",
      "coreClock: 1.38GHz coreCount: 80 deviceMemorySize: 31.75GiB deviceMemoryBandwidth: 836.37GiB/s\n",
      "2022-12-04 16:03:08.365169: I tensorflow/stream_executor/platform/default/dso_loader.cc:44] Successfully opened dynamic library libcudart.so.10.1\n",
      "2022-12-04 16:03:08.531801: I tensorflow/stream_executor/platform/default/dso_loader.cc:44] Successfully opened dynamic library libcublas.so.10\n",
      "2022-12-04 16:03:08.601107: I tensorflow/stream_executor/platform/default/dso_loader.cc:44] Successfully opened dynamic library libcufft.so.10\n",
      "2022-12-04 16:03:08.776860: I tensorflow/stream_executor/platform/default/dso_loader.cc:44] Successfully opened dynamic library libcurand.so.10\n",
      "2022-12-04 16:03:08.924652: I tensorflow/stream_executor/platform/default/dso_loader.cc:44] Successfully opened dynamic library libcusolver.so.10\n",
      "2022-12-04 16:03:09.047821: I tensorflow/stream_executor/platform/default/dso_loader.cc:44] Successfully opened dynamic library libcusparse.so.10\n",
      "2022-12-04 16:03:09.238554: I tensorflow/stream_executor/platform/default/dso_loader.cc:44] Successfully opened dynamic library libcudnn.so.7\n",
      "2022-12-04 16:03:09.249619: I tensorflow/core/common_runtime/gpu/gpu_device.cc:1703] Adding visible gpu devices: 0\n",
      "2022-12-04 16:03:09.250587: I tensorflow/core/platform/cpu_feature_guard.cc:143] Your CPU supports instructions that this TensorFlow binary was not compiled to use: SSE4.1 SSE4.2 AVX AVX2 FMA\n",
      "2022-12-04 16:03:09.263501: I tensorflow/core/platform/profile_utils/cpu_utils.cc:102] CPU Frequency: 2199950000 Hz\n",
      "2022-12-04 16:03:09.263814: I tensorflow/compiler/xla/service/service.cc:168] XLA service 0x5143d80 initialized for platform Host (this does not guarantee that XLA will be used). Devices:\n",
      "2022-12-04 16:03:09.263847: I tensorflow/compiler/xla/service/service.cc:176]   StreamExecutor device (0): Host, Default Version\n",
      "2022-12-04 16:03:09.459466: I tensorflow/compiler/xla/service/service.cc:168] XLA service 0x49ee9e0 initialized for platform CUDA (this does not guarantee that XLA will be used). Devices:\n",
      "2022-12-04 16:03:09.459504: I tensorflow/compiler/xla/service/service.cc:176]   StreamExecutor device (0): Tesla V100-PCIE-32GB, Compute Capability 7.0\n",
      "2022-12-04 16:03:09.492476: I tensorflow/core/common_runtime/gpu/gpu_device.cc:1561] Found device 0 with properties: \n",
      "pciBusID: 0000:8a:00.0 name: Tesla V100-PCIE-32GB computeCapability: 7.0\n",
      "coreClock: 1.38GHz coreCount: 80 deviceMemorySize: 31.75GiB deviceMemoryBandwidth: 836.37GiB/s\n",
      "2022-12-04 16:03:09.492588: I tensorflow/stream_executor/platform/default/dso_loader.cc:44] Successfully opened dynamic library libcudart.so.10.1\n",
      "2022-12-04 16:03:09.492624: I tensorflow/stream_executor/platform/default/dso_loader.cc:44] Successfully opened dynamic library libcublas.so.10\n",
      "2022-12-04 16:03:09.492654: I tensorflow/stream_executor/platform/default/dso_loader.cc:44] Successfully opened dynamic library libcufft.so.10\n",
      "2022-12-04 16:03:09.492682: I tensorflow/stream_executor/platform/default/dso_loader.cc:44] Successfully opened dynamic library libcurand.so.10\n",
      "2022-12-04 16:03:09.492708: I tensorflow/stream_executor/platform/default/dso_loader.cc:44] Successfully opened dynamic library libcusolver.so.10\n",
      "2022-12-04 16:03:09.492737: I tensorflow/stream_executor/platform/default/dso_loader.cc:44] Successfully opened dynamic library libcusparse.so.10\n",
      "2022-12-04 16:03:09.492765: I tensorflow/stream_executor/platform/default/dso_loader.cc:44] Successfully opened dynamic library libcudnn.so.7\n",
      "2022-12-04 16:03:09.499636: I tensorflow/core/common_runtime/gpu/gpu_device.cc:1703] Adding visible gpu devices: 0\n",
      "2022-12-04 16:03:09.499788: I tensorflow/stream_executor/platform/default/dso_loader.cc:44] Successfully opened dynamic library libcudart.so.10.1\n",
      "2022-12-04 16:03:09.504059: I tensorflow/core/common_runtime/gpu/gpu_device.cc:1102] Device interconnect StreamExecutor with strength 1 edge matrix:\n",
      "2022-12-04 16:03:09.504089: I tensorflow/core/common_runtime/gpu/gpu_device.cc:1108]      0 \n",
      "2022-12-04 16:03:09.504127: I tensorflow/core/common_runtime/gpu/gpu_device.cc:1121] 0:   N \n",
      "2022-12-04 16:03:09.517006: I tensorflow/core/common_runtime/gpu/gpu_device.cc:1247] Created TensorFlow device (/job:localhost/replica:0/task:0/device:GPU:0 with 30271 MB memory) -> physical GPU (device: 0, name: Tesla V100-PCIE-32GB, pci bus id: 0000:8a:00.0, compute capability: 7.0)\n"
     ]
    },
    {
     "name": "stdout",
     "output_type": "stream",
     "text": [
      "WARNING:tensorflow:No training configuration found in save file, so the model was *not* compiled. Compile it manually.\n",
      "(1, 120, 160, 3)\n"
     ]
    },
    {
     "name": "stderr",
     "output_type": "stream",
     "text": [
      "2022-12-04 16:03:16.090822: I tensorflow/stream_executor/platform/default/dso_loader.cc:44] Successfully opened dynamic library libcudnn.so.7\n",
      "2022-12-04 16:03:19.063598: I tensorflow/stream_executor/platform/default/dso_loader.cc:44] Successfully opened dynamic library libcublas.so.10\n"
     ]
    },
    {
     "name": "stdout",
     "output_type": "stream",
     "text": [
      "tf.Tensor([[0.3399557]], shape=(1, 1), dtype=float32)\n",
      "Elapsed Time: 3.342443810775876 ms\n"
     ]
    }
   ],
   "source": [
    "model = tf.keras.models.load_model(model_path)\n",
    "\n",
    "input_data = np.array(np.random.random_sample([1, 120, 160, 3]), dtype=np.float32)\n",
    "print(input_data.shape)\n",
    "\n",
    "start = time.perf_counter()\n",
    "\n",
    "output_data = model(input_data)\n",
    "\n",
    "stop = time.perf_counter()\n",
    "\n",
    "print(output_data)\n",
    "print(f\"Elapsed Time: {stop - start} ms\")"
   ]
  },
  {
   "cell_type": "code",
   "execution_count": 4,
   "id": "a779f6c9-ec95-4989-8200-7f09ae4eb996",
   "metadata": {},
   "outputs": [
    {
     "name": "stdout",
     "output_type": "stream",
     "text": [
      "(1, 120, 160, 3)\n",
      "[[0.2840037]]\n",
      "Elapsed Time: 0.023271989077329636 ms\n"
     ]
    }
   ],
   "source": [
    "# Load the TFLite model and allocate tensors\n",
    "interpreter = tf.lite.Interpreter(model_path=tflite_model_path)\n",
    "interpreter.allocate_tensors()\n",
    "\n",
    "# Get input and output tensors\n",
    "input_details = interpreter.get_input_details()\n",
    "output_details = interpreter.get_output_details()\n",
    "\n",
    "# Test the model on random input data\n",
    "input_shape = input_details[0]['shape']\n",
    "input_data = np.array(np.random.random_sample(input_shape), dtype=np.float32)\n",
    "print(input_data.shape)\n",
    "\n",
    "# Inference\n",
    "start = time.perf_counter()\n",
    "\n",
    "interpreter.set_tensor(input_details[0]['index'], input_data)\n",
    "\n",
    "interpreter.invoke()\n",
    "\n",
    "# get_tensor() returns a copy of the tensor data\n",
    "# use tensor() in order to get a pointer to the tensor\n",
    "output_data = interpreter.get_tensor(output_details[0]['index'])\n",
    "\n",
    "stop = time.perf_counter()\n",
    "\n",
    "print(output_data)\n",
    "print(f\"Elapsed Time: {stop - start} ms\")"
   ]
  }
 ],
 "metadata": {
  "kernelspec": {
   "display_name": "donkey",
   "language": "python",
   "name": "donkey"
  },
  "language_info": {
   "codemirror_mode": {
    "name": "ipython",
    "version": 3
   },
   "file_extension": ".py",
   "mimetype": "text/x-python",
   "name": "python",
   "nbconvert_exporter": "python",
   "pygments_lexer": "ipython3",
   "version": "3.7.15"
  }
 },
 "nbformat": 4,
 "nbformat_minor": 5
}
