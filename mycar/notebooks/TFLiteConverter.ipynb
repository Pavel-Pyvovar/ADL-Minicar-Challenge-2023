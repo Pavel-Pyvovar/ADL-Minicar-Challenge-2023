{
 "cells": [
  {
   "cell_type": "code",
   "execution_count": 1,
   "id": "2e59244d-9b64-4808-aa58-8d2cafb7682f",
   "metadata": {},
   "outputs": [
    {
     "name": "stdout",
     "output_type": "stream",
     "text": [
      "/Users/Pavlo/PycharmProjects/ADL-Minicar-Challenge-2023/mycar/notebooks\n"
     ]
    }
   ],
   "source": [
    "!pwd"
   ]
  },
  {
   "cell_type": "code",
   "execution_count": 2,
   "id": "ea1ac122-566a-481c-84e3-6a7ec40b14c6",
   "metadata": {},
   "outputs": [
    {
     "name": "stdout",
     "output_type": "stream",
     "text": [
      "2.2.0\n"
     ]
    }
   ],
   "source": [
    "import os\n",
    "import time\n",
    "import tensorflow as tf\n",
    "import numpy as np\n",
    "\n",
    "print(tf.__version__)"
   ]
  },
  {
   "cell_type": "code",
   "execution_count": 3,
   "id": "2b45aaf6-e32d-4eea-a00e-0772012f6179",
   "metadata": {},
   "outputs": [
    {
     "name": "stdout",
     "output_type": "stream",
     "text": [
      "/Users/Pavlo/opt/anaconda3/envs/donkey/bin/python\n"
     ]
    }
   ],
   "source": [
    "!which python"
   ]
  },
  {
   "cell_type": "code",
   "execution_count": 5,
   "id": "3e761202-4aaa-402f-8e1b-88b9cc3934f4",
   "metadata": {},
   "outputs": [
    {
     "name": "stdout",
     "output_type": "stream",
     "text": [
      "\u001b[34marrow_sign_classifier\u001b[m\u001b[m/        pedestrian_detector_v2.0.zip\n",
      "arrow_sign_classifier.tflite  \u001b[34mpedestrian_detector_v4\u001b[m\u001b[m/\n",
      "\u001b[34mcar_detector\u001b[m\u001b[m/                 \u001b[34mstop_sign_detector\u001b[m\u001b[m/\n",
      "car_detector.tflite           stop_sign_detector.tflite\n"
     ]
    }
   ],
   "source": [
    "ls ../models"
   ]
  },
  {
   "cell_type": "code",
   "execution_count": 6,
   "id": "e59170f6-2812-4085-a81e-c61eb5e4f627",
   "metadata": {},
   "outputs": [],
   "source": [
    "model_path = \"../models/pedestrian_detector_v4/\"\n",
    "tflite_model_path = \"../models/pedestrian_detector_v4.tflite\""
   ]
  },
  {
   "cell_type": "code",
   "execution_count": 34,
   "id": "6b648d44-1c4b-4c17-a951-cc872bbbbd13",
   "metadata": {},
   "outputs": [
    {
     "name": "stdout",
     "output_type": "stream",
     "text": [
      "/gpfs/space/home/pyvovar/miniconda3/envs/donkey/bin\n",
      "/gpfs/space/software/cluster_software/spack/linux-centos7-x86_64/gcc-9.2.0/git-2.35.2-pkznwh5mpp74zq6p42b47pxpgbxxrgwk/bin:/gpfs/space/software/cluster_software/spack/linux-centos7-x86_64/gcc-9.2.0/perl-5.34.1-4ryb2w6tlh6ha54x25kkpq7l5zjq56do/bin:/gpfs/space/software/cluster_software/spack/linux-centos7-x86_64/gcc-9.2.0/pcre2-10.36-viek2bpe7b5ktcr3qpyl2qhipy2ybjxs/bin:/gpfs/space/software/cluster_software/spack/linux-centos7-x86_64/gcc-9.2.0/openssh-9.0p1-xuo4l7k2kii6nqw2x2t22jqghijrsdgi/bin:/gpfs/space/software/cluster_software/spack/linux-centos7-x86_64/gcc-9.2.0/curl-7.83.0-yzcvzf3nqftyqhrki2zketnom3lbg3kf/bin:/gpfs/space/software/cluster_software/spack/linux-centos7-x86_64/gcc-9.2.0/openssl-1.1.1o-m6uvz6ittrnhnwd3oftfljxqwkve44j7/bin:/gpfs/space/software/cluster_software/spack/linux-centos7-x86_64/gcc-9.2.0/libidn2-2.3.0-qmmoo5lcgqh4crq2cbbwqe26b6ujugzx/bin:/gpfs/space/software/cluster_software/spack/linux-centos7-x86_64/gcc-9.2.0/libiconv-1.16-lgagwi6e52rlrjftg6bkfywcghlgdw3b/bin:/gpfs/space/software/jupyterhub/python/jupyter/bin:/sbin:/bin:/usr/sbin:/usr/bin:/gpfs/space/home/pyvovar/miniconda3/envs/donkey/bin:/gpfs/space/home/pyvovar/miniconda3/envs/donkey/bin:/gpfs/space/home/pyvovar/miniconda3/envs/donkey/bin\n"
     ]
    }
   ],
   "source": [
    "# Workaround for this bug https://github.com/tensorflow/tensorflow/issues/34698\n",
    "bin_path = os.path.dirname(os.sys.executable)\n",
    "if 'PATH' in os.environ:\n",
    "    os.environ['PATH'] += ':' + bin_path\n",
    "else:\n",
    "    os.environ['PATH'] = bin_path\n",
    "print(bin_path)\n",
    "print(os.environ['PATH'])"
   ]
  },
  {
   "cell_type": "code",
   "execution_count": 7,
   "id": "aae8466c-102a-4eb0-b04d-a7074d1d8517",
   "metadata": {},
   "outputs": [
    {
     "name": "stderr",
     "output_type": "stream",
     "text": [
      "2023-01-15 17:47:43.167352: I tensorflow/core/platform/cpu_feature_guard.cc:143] Your CPU supports instructions that this TensorFlow binary was not compiled to use: AVX2 FMA\n",
      "2023-01-15 17:47:43.250669: I tensorflow/compiler/xla/service/service.cc:168] XLA service 0x7f8fa13d1170 initialized for platform Host (this does not guarantee that XLA will be used). Devices:\n",
      "2023-01-15 17:47:43.250684: I tensorflow/compiler/xla/service/service.cc:176]   StreamExecutor device (0): Host, Default Version\n",
      "2023-01-15 17:47:43.707112: I tensorflow/core/grappler/devices.cc:60] Number of eligible GPUs (core count >= 8, compute capability >= 0.0): 0 (Note: TensorFlow was not compiled with CUDA support)\n",
      "2023-01-15 17:47:43.710475: I tensorflow/core/grappler/clusters/single_machine.cc:356] Starting new session\n",
      "2023-01-15 17:47:43.728032: I tensorflow/core/grappler/optimizers/meta_optimizer.cc:797] Optimization results for grappler item: graph_to_optimize\n",
      "2023-01-15 17:47:43.728435: I tensorflow/core/grappler/optimizers/meta_optimizer.cc:799]   function_optimizer: Graph size after: 61 nodes (48), 83 edges (70), time = 5.268ms.\n",
      "2023-01-15 17:47:43.728447: I tensorflow/core/grappler/optimizers/meta_optimizer.cc:799]   function_optimizer: function_optimizer did nothing. time = 0.102ms.\n",
      "2023-01-15 17:47:43.826044: I tensorflow/core/grappler/devices.cc:60] Number of eligible GPUs (core count >= 8, compute capability >= 0.0): 0 (Note: TensorFlow was not compiled with CUDA support)\n",
      "2023-01-15 17:47:43.826130: I tensorflow/core/grappler/clusters/single_machine.cc:356] Starting new session\n",
      "2023-01-15 17:47:43.909340: I tensorflow/core/grappler/optimizers/meta_optimizer.cc:797] Optimization results for grappler item: graph_to_optimize\n",
      "2023-01-15 17:47:43.909363: I tensorflow/core/grappler/optimizers/meta_optimizer.cc:799]   constant_folding: Graph size after: 51 nodes (-10), 63 edges (-20), time = 59.479ms.\n",
      "2023-01-15 17:47:43.909369: I tensorflow/core/grappler/optimizers/meta_optimizer.cc:799]   constant_folding: Graph size after: 51 nodes (0), 63 edges (0), time = 5ms.\n"
     ]
    }
   ],
   "source": [
    "converter = tf.lite.TFLiteConverter.from_saved_model(model_path)\n",
    "tflite_model = converter.convert()\n",
    "with open(tflite_model_path, 'wb') as f:\n",
    "    f.write(tflite_model)"
   ]
  },
  {
   "cell_type": "code",
   "execution_count": 9,
   "id": "1894df95-6828-4317-8cbd-52bd23ef742b",
   "metadata": {},
   "outputs": [
    {
     "name": "stdout",
     "output_type": "stream",
     "text": [
      "WARNING:tensorflow:No training configuration found in save file, so the model was *not* compiled. Compile it manually.\n"
     ]
    },
    {
     "name": "stderr",
     "output_type": "stream",
     "text": [
      "WARNING:tensorflow:No training configuration found in save file, so the model was *not* compiled. Compile it manually.\n"
     ]
    },
    {
     "name": "stdout",
     "output_type": "stream",
     "text": [
      "(1, 70, 160, 3)\n",
      "tf.Tensor([[0.9921028]], shape=(1, 1), dtype=float32)\n",
      "Elapsed Time: 0.006352789999994002 ms\n"
     ]
    }
   ],
   "source": [
    "model = tf.keras.models.load_model(model_path)\n",
    "\n",
    "input_data = np.array(np.random.random_sample([1, 70, 160, 3]), dtype=np.float32)\n",
    "print(input_data.shape)\n",
    "\n",
    "start = time.perf_counter()\n",
    "\n",
    "output_data = model(input_data)\n",
    "\n",
    "stop = time.perf_counter()\n",
    "\n",
    "print(output_data)\n",
    "print(f\"Elapsed Time: {stop - start} ms\")"
   ]
  },
  {
   "cell_type": "code",
   "execution_count": 10,
   "id": "a779f6c9-ec95-4989-8200-7f09ae4eb996",
   "metadata": {},
   "outputs": [
    {
     "name": "stdout",
     "output_type": "stream",
     "text": [
      "(1, 70, 160, 3)\n",
      "[[0.9918641]]\n",
      "Elapsed Time: 0.01411795000001348 ms\n"
     ]
    }
   ],
   "source": [
    "# Load the TFLite model and allocate tensors\n",
    "interpreter = tf.lite.Interpreter(model_path=tflite_model_path)\n",
    "interpreter.allocate_tensors()\n",
    "\n",
    "# Get input and output tensors\n",
    "input_details = interpreter.get_input_details()\n",
    "output_details = interpreter.get_output_details()\n",
    "\n",
    "# Test the model on random input data\n",
    "input_shape = input_details[0]['shape']\n",
    "input_data = np.array(np.random.random_sample(input_shape), dtype=np.float32)\n",
    "print(input_data.shape)\n",
    "\n",
    "# Inference\n",
    "start = time.perf_counter()\n",
    "\n",
    "interpreter.set_tensor(input_details[0]['index'], input_data)\n",
    "\n",
    "interpreter.invoke()\n",
    "\n",
    "# get_tensor() returns a copy of the tensor data\n",
    "# use tensor() in order to get a pointer to the tensor\n",
    "output_data = interpreter.get_tensor(output_details[0]['index'])\n",
    "\n",
    "stop = time.perf_counter()\n",
    "\n",
    "print(output_data)\n",
    "print(f\"Elapsed Time: {stop - start} ms\")"
   ]
  },
  {
   "cell_type": "code",
   "execution_count": null,
   "id": "97239ac7-5b43-46c8-98ca-b9fb920e0331",
   "metadata": {},
   "outputs": [],
   "source": []
  }
 ],
 "metadata": {
  "kernelspec": {
   "display_name": "donkey",
   "language": "python",
   "name": "python3"
  },
  "language_info": {
   "codemirror_mode": {
    "name": "ipython",
    "version": 3
   },
   "file_extension": ".py",
   "mimetype": "text/x-python",
   "name": "python",
   "nbconvert_exporter": "python",
   "pygments_lexer": "ipython3",
   "version": "3.7.15"
  },
  "vscode": {
   "interpreter": {
    "hash": "00f060513704948ee862c1c5c0429158adde5277ce68a0ba77b2db1e39ca86cf"
   }
  }
 },
 "nbformat": 4,
 "nbformat_minor": 5
}
