{
 "cells": [
  {
   "cell_type": "code",
   "execution_count": 2,
   "id": "2e59244d-9b64-4808-aa58-8d2cafb7682f",
   "metadata": {},
   "outputs": [
    {
     "name": "stdout",
     "output_type": "stream",
     "text": [
      "/Users/Pavlo/PycharmProjects/ADL-Minicar-Challenge-2023/mycar/notebooks\n"
     ]
    }
   ],
   "source": [
    "!pwd"
   ]
  },
  {
   "cell_type": "code",
   "execution_count": 1,
   "id": "ea1ac122-566a-481c-84e3-6a7ec40b14c6",
   "metadata": {},
   "outputs": [
    {
     "name": "stdout",
     "output_type": "stream",
     "text": [
      "2.2.0\n"
     ]
    }
   ],
   "source": [
    "import os\n",
    "import time\n",
    "import tensorflow as tf\n",
    "import numpy as np\n",
    "\n",
    "print(tf.__version__)"
   ]
  },
  {
   "cell_type": "code",
   "execution_count": 2,
   "id": "2b45aaf6-e32d-4eea-a00e-0772012f6179",
   "metadata": {},
   "outputs": [
    {
     "name": "stdout",
     "output_type": "stream",
     "text": [
      "/gpfs/space/software/jupyterhub/python/jupyter/bin/python\n"
     ]
    }
   ],
   "source": [
    "!which python"
   ]
  },
  {
   "cell_type": "code",
   "execution_count": 5,
   "id": "3e761202-4aaa-402f-8e1b-88b9cc3934f4",
   "metadata": {},
   "outputs": [
    {
     "name": "stdout",
     "output_type": "stream",
     "text": [
      "\u001b[0m\u001b[01;34mpedestrian_detection_v3\u001b[0m/  \u001b[01;34mstop_sign_detector\u001b[0m/\n"
     ]
    }
   ],
   "source": [
    "ls ../models"
   ]
  },
  {
   "cell_type": "code",
   "execution_count": 39,
   "id": "e59170f6-2812-4085-a81e-c61eb5e4f627",
   "metadata": {},
   "outputs": [],
   "source": [
    "model_path = \"../models/stop_sign_detector_v3\"\n",
    "tflite_model_path = \"../models/stop_sign_detector_v3.tflite\""
   ]
  },
  {
   "cell_type": "code",
   "execution_count": 34,
   "id": "6b648d44-1c4b-4c17-a951-cc872bbbbd13",
   "metadata": {},
   "outputs": [
    {
     "name": "stdout",
     "output_type": "stream",
     "text": [
      "/gpfs/space/home/pyvovar/miniconda3/envs/donkey/bin\n",
      "/gpfs/space/software/cluster_software/spack/linux-centos7-x86_64/gcc-9.2.0/git-2.35.2-pkznwh5mpp74zq6p42b47pxpgbxxrgwk/bin:/gpfs/space/software/cluster_software/spack/linux-centos7-x86_64/gcc-9.2.0/perl-5.34.1-4ryb2w6tlh6ha54x25kkpq7l5zjq56do/bin:/gpfs/space/software/cluster_software/spack/linux-centos7-x86_64/gcc-9.2.0/pcre2-10.36-viek2bpe7b5ktcr3qpyl2qhipy2ybjxs/bin:/gpfs/space/software/cluster_software/spack/linux-centos7-x86_64/gcc-9.2.0/openssh-9.0p1-xuo4l7k2kii6nqw2x2t22jqghijrsdgi/bin:/gpfs/space/software/cluster_software/spack/linux-centos7-x86_64/gcc-9.2.0/curl-7.83.0-yzcvzf3nqftyqhrki2zketnom3lbg3kf/bin:/gpfs/space/software/cluster_software/spack/linux-centos7-x86_64/gcc-9.2.0/openssl-1.1.1o-m6uvz6ittrnhnwd3oftfljxqwkve44j7/bin:/gpfs/space/software/cluster_software/spack/linux-centos7-x86_64/gcc-9.2.0/libidn2-2.3.0-qmmoo5lcgqh4crq2cbbwqe26b6ujugzx/bin:/gpfs/space/software/cluster_software/spack/linux-centos7-x86_64/gcc-9.2.0/libiconv-1.16-lgagwi6e52rlrjftg6bkfywcghlgdw3b/bin:/gpfs/space/software/jupyterhub/python/jupyter/bin:/sbin:/bin:/usr/sbin:/usr/bin:/gpfs/space/home/pyvovar/miniconda3/envs/donkey/bin:/gpfs/space/home/pyvovar/miniconda3/envs/donkey/bin:/gpfs/space/home/pyvovar/miniconda3/envs/donkey/bin\n"
     ]
    }
   ],
   "source": [
    "# Workaround for this bug https://github.com/tensorflow/tensorflow/issues/34698\n",
    "bin_path = os.path.dirname(os.sys.executable)\n",
    "if 'PATH' in os.environ:\n",
    "    os.environ['PATH'] += ':' + bin_path\n",
    "else:\n",
    "    os.environ['PATH'] = bin_path\n",
    "print(bin_path)\n",
    "print(os.environ['PATH'])"
   ]
  },
  {
   "cell_type": "code",
   "execution_count": 40,
   "id": "aae8466c-102a-4eb0-b04d-a7074d1d8517",
   "metadata": {},
   "outputs": [
    {
     "name": "stderr",
     "output_type": "stream",
     "text": [
      "2022-12-07 14:23:32.431494: I tensorflow/core/grappler/devices.cc:60] Number of eligible GPUs (core count >= 8, compute capability >= 0.0): 0 (Note: TensorFlow was not compiled with CUDA support)\n",
      "2022-12-07 14:23:32.431625: I tensorflow/core/grappler/clusters/single_machine.cc:356] Starting new session\n",
      "2022-12-07 14:23:32.435733: I tensorflow/core/grappler/optimizers/meta_optimizer.cc:797] Optimization results for grappler item: graph_to_optimize\n",
      "2022-12-07 14:23:32.435781: I tensorflow/core/grappler/optimizers/meta_optimizer.cc:799]   function_optimizer: Graph size after: 57 nodes (44), 79 edges (66), time = 1.957ms.\n",
      "2022-12-07 14:23:32.435789: I tensorflow/core/grappler/optimizers/meta_optimizer.cc:799]   function_optimizer: function_optimizer did nothing. time = 0.058ms.\n",
      "2022-12-07 14:23:32.522116: I tensorflow/core/grappler/devices.cc:60] Number of eligible GPUs (core count >= 8, compute capability >= 0.0): 0 (Note: TensorFlow was not compiled with CUDA support)\n",
      "2022-12-07 14:23:32.522245: I tensorflow/core/grappler/clusters/single_machine.cc:356] Starting new session\n",
      "2022-12-07 14:23:32.572033: I tensorflow/core/grappler/optimizers/meta_optimizer.cc:797] Optimization results for grappler item: graph_to_optimize\n",
      "2022-12-07 14:23:32.572088: I tensorflow/core/grappler/optimizers/meta_optimizer.cc:799]   constant_folding: Graph size after: 47 nodes (-10), 59 edges (-20), time = 30.927ms.\n",
      "2022-12-07 14:23:32.572097: I tensorflow/core/grappler/optimizers/meta_optimizer.cc:799]   constant_folding: Graph size after: 47 nodes (0), 59 edges (0), time = 4.628ms.\n"
     ]
    }
   ],
   "source": [
    "converter = tf.lite.TFLiteConverter.from_saved_model(model_path)\n",
    "tflite_model = converter.convert()\n",
    "with open(tflite_model_path, 'wb') as f:\n",
    "    f.write(tflite_model)"
   ]
  },
  {
   "cell_type": "code",
   "execution_count": 41,
   "id": "1894df95-6828-4317-8cbd-52bd23ef742b",
   "metadata": {},
   "outputs": [
    {
     "name": "stdout",
     "output_type": "stream",
     "text": [
      "WARNING:tensorflow:No training configuration found in save file, so the model was *not* compiled. Compile it manually.\n"
     ]
    },
    {
     "name": "stderr",
     "output_type": "stream",
     "text": [
      "WARNING:tensorflow:No training configuration found in save file, so the model was *not* compiled. Compile it manually.\n"
     ]
    },
    {
     "name": "stdout",
     "output_type": "stream",
     "text": [
      "(1, 120, 160, 3)\n",
      "tf.Tensor([[0.99968994]], shape=(1, 1), dtype=float32)\n",
      "Elapsed Time: 0.009328829124569893 ms\n"
     ]
    }
   ],
   "source": [
    "model = tf.keras.models.load_model(model_path)\n",
    "\n",
    "input_data = np.array(np.random.random_sample([1, 120, 160, 3]), dtype=np.float32)\n",
    "print(input_data.shape)\n",
    "\n",
    "start = time.perf_counter()\n",
    "\n",
    "output_data = model(input_data)\n",
    "\n",
    "stop = time.perf_counter()\n",
    "\n",
    "print(output_data)\n",
    "print(f\"Elapsed Time: {stop - start} ms\")"
   ]
  },
  {
   "cell_type": "code",
   "execution_count": 42,
   "id": "a779f6c9-ec95-4989-8200-7f09ae4eb996",
   "metadata": {},
   "outputs": [
    {
     "name": "stdout",
     "output_type": "stream",
     "text": [
      "(1, 120, 160, 3)\n",
      "[[0.9997409]]\n",
      "Elapsed Time: 0.025668388232588768 ms\n"
     ]
    }
   ],
   "source": [
    "# Load the TFLite model and allocate tensors\n",
    "interpreter = tf.lite.Interpreter(model_path=tflite_model_path)\n",
    "interpreter.allocate_tensors()\n",
    "\n",
    "# Get input and output tensors\n",
    "input_details = interpreter.get_input_details()\n",
    "output_details = interpreter.get_output_details()\n",
    "\n",
    "# Test the model on random input data\n",
    "input_shape = input_details[0]['shape']\n",
    "input_data = np.array(np.random.random_sample(input_shape), dtype=np.float32)\n",
    "print(input_data.shape)\n",
    "\n",
    "# Inference\n",
    "start = time.perf_counter()\n",
    "\n",
    "interpreter.set_tensor(input_details[0]['index'], input_data)\n",
    "\n",
    "interpreter.invoke()\n",
    "\n",
    "# get_tensor() returns a copy of the tensor data\n",
    "# use tensor() in order to get a pointer to the tensor\n",
    "output_data = interpreter.get_tensor(output_details[0]['index'])\n",
    "\n",
    "stop = time.perf_counter()\n",
    "\n",
    "print(output_data)\n",
    "print(f\"Elapsed Time: {stop - start} ms\")"
   ]
  },
  {
   "cell_type": "code",
   "execution_count": null,
   "id": "97239ac7-5b43-46c8-98ca-b9fb920e0331",
   "metadata": {},
   "outputs": [],
   "source": []
  }
 ],
 "metadata": {
  "kernelspec": {
   "display_name": "donkey",
   "language": "python",
   "name": "donkey"
  },
  "language_info": {
   "codemirror_mode": {
    "name": "ipython",
    "version": 3
   },
   "file_extension": ".py",
   "mimetype": "text/x-python",
   "name": "python",
   "nbconvert_exporter": "python",
   "pygments_lexer": "ipython3",
   "version": "3.7.15"
  }
 },
 "nbformat": 4,
 "nbformat_minor": 5
}
