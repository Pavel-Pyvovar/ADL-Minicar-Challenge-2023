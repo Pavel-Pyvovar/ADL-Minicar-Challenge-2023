{
 "cells": [
  {
   "cell_type": "code",
   "execution_count": 1,
   "id": "eb98512d-deca-4de6-aad9-8990e3b25ef7",
   "metadata": {
    "pycharm": {
     "name": "#%%\n"
    }
   },
   "outputs": [
    {
     "name": "stdout",
     "output_type": "stream",
     "text": [
      "1.10.1+cpu\n"
     ]
    }
   ],
   "source": [
    "import os\n",
    "\n",
    "import torch\n",
    "from torch.utils.data import Dataset\n",
    "from torch.utils.data import DataLoader\n",
    "import torchvision.transforms as transforms\n",
    "\n",
    "import numpy as np\n",
    "import matplotlib.pyplot as plt\n",
    "import cv2\n",
    "from sklearn.model_selection import train_test_split\n",
    "\n",
    "import numpy as np\n",
    "import pandas as pd\n",
    "from tqdm.notebook import tqdm\n",
    "import matplotlib.pyplot as plt\n",
    "import torch\n",
    "import torchvision\n",
    "import torch.nn as nn\n",
    "import torch.optim as optim\n",
    "from torchvision import transforms, utils, datasets\n",
    "from torch.utils.data import Dataset, DataLoader, SubsetRandomSampler\n",
    "from sklearn.metrics import classification_report, confusion_matrix\n",
    "\n",
    "print(torch.__version__)"
   ]
  },
  {
   "cell_type": "code",
   "execution_count": 38,
   "id": "f30ebeb8-fb98-4fae-bbf1-84e06a68555a",
   "metadata": {
    "pycharm": {
     "name": "#%%\n"
    }
   },
   "outputs": [],
   "source": [
    "data_path = \"./data\"\n",
    "data_path_zebra = os.path.join(data_path, \"zebra_dataset\")\n",
    "data_path_without = os.path.join(data_path_zebra, \"without\")\n",
    "data_path_with = os.path.join(data_path_zebra, \"with\")\n",
    "\n",
    "device = \"cuda\" if torch.cuda.is_available() else \"cpu\""
   ]
  },
  {
   "cell_type": "code",
   "execution_count": 55,
   "id": "b837e651-8a8c-4ebc-a8bf-358ed76dab02",
   "metadata": {
    "pycharm": {
     "name": "#%%\n"
    }
   },
   "outputs": [
    {
     "data": {
      "text/plain": "['./data\\\\zebra_dataset\\\\without\\\\0_cam_image_array_.jpg',\n './data\\\\zebra_dataset\\\\without\\\\1000_cam_image_array_.jpg',\n './data\\\\zebra_dataset\\\\without\\\\1001_cam_image_array_.jpg',\n './data\\\\zebra_dataset\\\\without\\\\1002_cam_image_array_.jpg',\n './data\\\\zebra_dataset\\\\without\\\\1003_cam_image_array_.jpg',\n './data\\\\zebra_dataset\\\\without\\\\1004_cam_image_array_.jpg',\n './data\\\\zebra_dataset\\\\without\\\\1005_cam_image_array_.jpg',\n './data\\\\zebra_dataset\\\\without\\\\1006_cam_image_array_.jpg',\n './data\\\\zebra_dataset\\\\without\\\\1007_cam_image_array_.jpg',\n './data\\\\zebra_dataset\\\\without\\\\1008_cam_image_array_.jpg']"
     },
     "execution_count": 55,
     "metadata": {},
     "output_type": "execute_result"
    }
   ],
   "source": [
    "# Collected image paths and labels\n",
    "images = []\n",
    "labels = []\n",
    "\n",
    "label_without = 0\n",
    "label_with = 1\n",
    "\n",
    "# Collect paths of images WITHOUT pedestrians\n",
    "for image_name in os.listdir(data_path_without):\n",
    "    images.append(os.path.join(data_path_without, image_name))\n",
    "    labels.append(label_without)\n",
    "\n",
    "# Collect paths of images WITH pedestrians\n",
    "for image_name in os.listdir(data_path_with):\n",
    "    images.append(os.path.join(data_path_with, image_name))\n",
    "    labels.append(label_with)\n",
    "\n",
    "images[:10]"
   ]
  },
  {
   "cell_type": "code",
   "execution_count": 56,
   "id": "3deb15d4-1a20-48b7-a618-16d319818f63",
   "metadata": {
    "pycharm": {
     "name": "#%%\n"
    }
   },
   "outputs": [],
   "source": [
    "X_train, X_test, y_train, y_test = train_test_split(images, labels, test_size=0.1, shuffle=True, random_state=2022)\n",
    "X_train, X_val, y_train, y_val = train_test_split(X_train, y_train, test_size=0.2, shuffle=True, random_state=2022)"
   ]
  },
  {
   "cell_type": "code",
   "execution_count": 42,
   "id": "1db707e1-62cf-46a2-952b-cc6a22215f89",
   "metadata": {
    "pycharm": {
     "name": "#%%\n"
    }
   },
   "outputs": [],
   "source": [
    "class PedestrianDataset(Dataset):\n",
    "    def __init__(self, img_paths, img_labels, transform=None):\n",
    "        self.img_paths = img_paths\n",
    "        self.img_labels = img_labels\n",
    "        self.transform = transform\n",
    "\n",
    "    def __len__(self):\n",
    "        return len(self.img_labels)\n",
    "\n",
    "    def __getitem__(self, idx):\n",
    "        image_bgr = cv2.imread(self.img_paths[idx])\n",
    "        while image_bgr is None:  # Failed to load the image\n",
    "            idx += 1\n",
    "            image_bgr = cv2.imread(self.img_paths[idx])\n",
    "\n",
    "        image_rgb = cv2.cvtColor(image_bgr, cv2.COLOR_BGR2RGB)\n",
    "        if self.transform:\n",
    "            image_rgb = self.transform(image_rgb)\n",
    "\n",
    "        label = torch.Tensor([self.img_labels[idx]])\n",
    "\n",
    "        return image_rgb, label"
   ]
  },
  {
   "cell_type": "code",
   "execution_count": 24,
   "id": "683068ce-eb6f-4022-9f29-29935a3b0cc8",
   "metadata": {
    "pycharm": {
     "name": "#%%\n"
    }
   },
   "outputs": [],
   "source": [
    "def get_mean_std(loader):\n",
    "    channels_sum, channels_squared_sum, num_batches = 0, 0, 0\n",
    "\n",
    "    for data, _ in loader:\n",
    "        channels_sum += torch.mean(data, dim=[0, 2, 3])\n",
    "        channels_squared_sum += torch.mean(data ** 2, dim=[0, 2, 3])\n",
    "        num_batches += 1\n",
    "\n",
    "    mean = channels_sum / num_batches\n",
    "    std = (channels_squared_sum / num_batches - mean ** 2) ** 0.5\n",
    "\n",
    "    return mean, std"
   ]
  },
  {
   "cell_type": "code",
   "execution_count": 28,
   "id": "4de7d11d-96ff-4993-95eb-0761b9abd61d",
   "metadata": {
    "pycharm": {
     "name": "#%%\n"
    }
   },
   "outputs": [
    {
     "name": "stdout",
     "output_type": "stream",
     "text": [
      "Mean: tensor([-0.0003, -0.0005, -0.0003])\n",
      "Std: tensor([1.0001, 1.0000, 0.9998])\n"
     ]
    }
   ],
   "source": [
    "data_transform = transforms.Compose([\n",
    "    transforms.ToTensor(),\n",
    "])\n",
    "\n",
    "train_dataset = PedestrianDataset(X_train, y_train, transform=data_transform)\n",
    "train_dataloader = DataLoader(train_dataset, batch_size=64, shuffle=True)\n",
    "\n",
    "mean, std = get_mean_std(train_dataloader)\n",
    "print(f\"Mean: {mean}\")\n",
    "print(f\"Std: {std}\")"
   ]
  },
  {
   "cell_type": "code",
   "execution_count": 57,
   "id": "51f4ae91-ab04-4c33-ae37-41c623f1cd46",
   "metadata": {
    "pycharm": {
     "name": "#%%\n"
    }
   },
   "outputs": [],
   "source": [
    "data_transform = transforms.Compose([\n",
    "    transforms.ToTensor(),\n",
    "    transforms.Normalize(\n",
    "        mean=[0.4251, 0.4787, 0.4311],\n",
    "        std=[0.2203, 0.2276, 0.2366]\n",
    "    ),\n",
    "])\n",
    "\n",
    "\n",
    "train_dataset = PedestrianDataset(X_train, y_train, transform=data_transform)\n",
    "val_dataset = PedestrianDataset(X_val, y_val, transform=data_transform)\n",
    "test_dataset = PedestrianDataset(X_test, y_test, transform=data_transform)\n",
    "\n",
    "train_dataloader = DataLoader(train_dataset, batch_size=64, shuffle=True)\n",
    "val_dataloader = DataLoader(val_dataset, batch_size=64, shuffle=True)\n",
    "test_dataloader = DataLoader(test_dataset, batch_size=64, shuffle=True)"
   ]
  },
  {
   "cell_type": "code",
   "execution_count": 64,
   "outputs": [
    {
     "name": "stdout",
     "output_type": "stream",
     "text": [
      "PedestrianDetector(\n",
      "  (conv1): Conv2d(3, 64, kernel_size=(3, 3), stride=(1, 1))\n",
      "  (conv2): Conv2d(64, 32, kernel_size=(3, 3), stride=(1, 1))\n",
      "  (conv3): Conv2d(32, 16, kernel_size=(3, 3), stride=(1, 1))\n",
      "  (fc): Linear(in_features=3744, out_features=1, bias=True)\n",
      ")\n",
      "Image Batch Shape: torch.Size([64, 3, 120, 160])\n",
      "Label Batch Shape: torch.Size([64, 1])\n",
      "Predict Batch Shape: torch.Size([64, 1])\n"
     ]
    }
   ],
   "source": [
    "class PedestrianDetector(nn.Module):\n",
    "    def __init__(self):\n",
    "        super(PedestrianDetector, self).__init__()\n",
    "\n",
    "        self.conv1 = nn.Conv2d(in_channels=3, out_channels=64, kernel_size=3)\n",
    "        # self.dropout1 = nn.Dropout2d(p=0.1)\n",
    "\n",
    "        self.conv2 = nn.Conv2d(in_channels=64, out_channels=32, kernel_size=3)\n",
    "        # self.dropout2 = nn.Dropout2d(p=0.1)\n",
    "\n",
    "        self.conv3 = nn.Conv2d(in_channels=32, out_channels=16, kernel_size=3)\n",
    "        # self.dropout3 = nn.Dropout2d(p=0.1)\n",
    "\n",
    "        self.fc = nn.Linear(3744, 1)\n",
    "\n",
    "    def forward(self, x):\n",
    "        x = torch.relu(torch.max_pool2d(self.conv1(x), 2))\n",
    "        x = torch.relu(torch.max_pool2d(self.conv2(x), 2))\n",
    "        x = torch.relu(torch.max_pool2d(self.conv3(x), 2))\n",
    "        x = torch.sigmoid(self.fc(x.view(x.shape[0], -1)))\n",
    "        return x\n",
    "\n",
    "\n",
    "model = PedestrianDetector()\n",
    "print(model)\n",
    "\n",
    "image_batch, label_batch = next(iter(train_dataloader))\n",
    "pred_batch = model(image_batch)\n",
    "\n",
    "print(f\"Image Batch Shape: {image_batch.shape}\")\n",
    "print(f\"Label Batch Shape: {label_batch.shape}\")\n",
    "print(f\"Predict Batch Shape: {pred_batch.shape}\")"
   ],
   "metadata": {
    "collapsed": false,
    "pycharm": {
     "name": "#%%\n"
    }
   }
  },
  {
   "cell_type": "code",
   "execution_count": 73,
   "outputs": [],
   "source": [
    "def get_accuracy(y_prob, y_true, threshold=0.5):\n",
    "    assert y_true.size() == y_prob.size()\n",
    "    y_prob = y_prob > threshold\n",
    "    return (y_true == y_prob).sum().item() / y_true.size(0)"
   ],
   "metadata": {
    "collapsed": false,
    "pycharm": {
     "name": "#%%\n"
    }
   }
  },
  {
   "cell_type": "code",
   "execution_count": 74,
   "outputs": [
    {
     "name": "stdout",
     "output_type": "stream",
     "text": [
      "Train [1/10, 10/16]: Loss 0.6924334466457367, Accuracy 0.49375\n",
      "Train [1/10, 20/16]: Loss 0.6871529877185821, Accuracy 0.5890625\n",
      "Train [1/10, 30/16]: Loss 0.6823015809059143, Accuracy 0.55\n",
      "Train [1/10, 40/16]: Loss 0.6700393497943878, Accuracy 0.6015625\n",
      "Train [1/10, 50/16]: Loss 0.6602464914321899, Accuracy 0.6046875\n",
      "Train [1/10, 60/16]: Loss 0.6385653614997864, Accuracy 0.815625\n",
      "Val [1/10, 10/16]: Loss 0.6114684522151947, Accuracy 0.9359375\n",
      "Train [2/10, 10/16]: Loss 0.6022695124149322, Accuracy 0.8171875\n",
      "Train [2/10, 20/16]: Loss 0.5529086410999298, Accuracy 0.89375\n",
      "Train [2/10, 30/16]: Loss 0.4959726482629776, Accuracy 0.9\n",
      "Train [2/10, 40/16]: Loss 0.4144680380821228, Accuracy 0.89375\n",
      "Train [2/10, 50/16]: Loss 0.34091065526008607, Accuracy 0.91875\n",
      "Train [2/10, 60/16]: Loss 0.3351433649659157, Accuracy 0.8765625\n",
      "Val [2/10, 10/16]: Loss 0.2715414762496948, Accuracy 1.0203125\n",
      "Train [3/10, 10/16]: Loss 0.280699323117733, Accuracy 0.896875\n",
      "Train [3/10, 20/16]: Loss 0.24406169205904008, Accuracy 0.91875\n",
      "Train [3/10, 30/16]: Loss 0.22843142598867416, Accuracy 0.925\n",
      "Train [3/10, 40/16]: Loss 0.19099439680576324, Accuracy 0.9421875\n",
      "Train [3/10, 50/16]: Loss 0.18501298427581786, Accuracy 0.9421875\n",
      "Train [3/10, 60/16]: Loss 0.16030481681227685, Accuracy 0.95\n",
      "Val [3/10, 10/16]: Loss 0.15011964589357377, Accuracy 1.0625\n",
      "Train [4/10, 10/16]: Loss 0.19241121783852577, Accuracy 0.9375\n",
      "Train [4/10, 20/16]: Loss 0.1636953830718994, Accuracy 0.9515625\n",
      "Train [4/10, 30/16]: Loss 0.12569803074002267, Accuracy 0.971875\n",
      "Train [4/10, 40/16]: Loss 0.11518521904945374, Accuracy 0.9703125\n",
      "Train [4/10, 50/16]: Loss 0.12442249730229378, Accuracy 0.9515625\n",
      "Train [4/10, 60/16]: Loss 0.11778948903083801, Accuracy 0.9578125\n",
      "Val [4/10, 10/16]: Loss 0.10978772267699241, Accuracy 1.0625\n",
      "Train [5/10, 10/16]: Loss 0.11685119792819024, Accuracy 0.959375\n",
      "Train [5/10, 20/16]: Loss 0.1145423136651516, Accuracy 0.9703125\n",
      "Train [5/10, 30/16]: Loss 0.10605325661599636, Accuracy 0.9671875\n",
      "Train [5/10, 40/16]: Loss 0.0946603175252676, Accuracy 0.98125\n",
      "Train [5/10, 50/16]: Loss 0.09874769374728203, Accuracy 0.9640625\n",
      "Train [5/10, 60/16]: Loss 0.08190716989338398, Accuracy 0.9828125\n",
      "Val [5/10, 10/16]: Loss 0.08869019523262978, Accuracy 1.0703125\n",
      "Train [6/10, 10/16]: Loss 0.09169992879033088, Accuracy 0.965625\n",
      "Train [6/10, 20/16]: Loss 0.0733080416917801, Accuracy 0.978125\n",
      "Train [6/10, 30/16]: Loss 0.07039368972182274, Accuracy 0.984375\n",
      "Train [6/10, 40/16]: Loss 0.07909188233315945, Accuracy 0.971875\n",
      "Train [6/10, 50/16]: Loss 0.08115676734596491, Accuracy 0.96875\n",
      "Train [6/10, 60/16]: Loss 0.07596868313848973, Accuracy 0.9796875\n",
      "Val [6/10, 10/16]: Loss 0.06560507901012898, Accuracy 1.0765625\n",
      "Train [7/10, 10/16]: Loss 0.07258726991713046, Accuracy 0.984375\n",
      "Train [7/10, 20/16]: Loss 0.0697396419942379, Accuracy 0.971875\n",
      "Train [7/10, 30/16]: Loss 0.06154992152005434, Accuracy 0.98125\n",
      "Train [7/10, 40/16]: Loss 0.04360191524028778, Accuracy 0.990625\n",
      "Train [7/10, 50/16]: Loss 0.0638003934174776, Accuracy 0.9734375\n",
      "Train [7/10, 60/16]: Loss 0.060585655458271506, Accuracy 0.9796875\n",
      "Val [7/10, 10/16]: Loss 0.05199697986245155, Accuracy 1.0875\n",
      "Train [8/10, 10/16]: Loss 0.04395232368260622, Accuracy 0.9921875\n",
      "Train [8/10, 20/16]: Loss 0.05748380180448294, Accuracy 0.978125\n",
      "Train [8/10, 30/16]: Loss 0.05511955469846726, Accuracy 0.98125\n",
      "Train [8/10, 40/16]: Loss 0.038000819832086564, Accuracy 0.990625\n",
      "Train [8/10, 50/16]: Loss 0.0416371613740921, Accuracy 0.9890625\n",
      "Train [8/10, 60/16]: Loss 0.041618413850665094, Accuracy 0.9890625\n",
      "Val [8/10, 10/16]: Loss 0.037249398231506345, Accuracy 1.0890625\n",
      "Train [9/10, 10/16]: Loss 0.0537463054060936, Accuracy 0.978125\n",
      "Train [9/10, 20/16]: Loss 0.04786138888448477, Accuracy 0.9828125\n",
      "Train [9/10, 30/16]: Loss 0.03799909129738808, Accuracy 0.990625\n"
     ]
    },
    {
     "ename": "KeyboardInterrupt",
     "evalue": "",
     "output_type": "error",
     "traceback": [
      "\u001B[1;31m---------------------------------------------------------------------------\u001B[0m",
      "\u001B[1;31mKeyboardInterrupt\u001B[0m                         Traceback (most recent call last)",
      "\u001B[1;32m~\\AppData\\Local\\Temp/ipykernel_4948/1963300523.py\u001B[0m in \u001B[0;36m<module>\u001B[1;34m\u001B[0m\n\u001B[0;32m     17\u001B[0m         \u001B[0moptimizer\u001B[0m\u001B[1;33m.\u001B[0m\u001B[0mzero_grad\u001B[0m\u001B[1;33m(\u001B[0m\u001B[1;33m)\u001B[0m\u001B[1;33m\u001B[0m\u001B[1;33m\u001B[0m\u001B[0m\n\u001B[0;32m     18\u001B[0m \u001B[1;33m\u001B[0m\u001B[0m\n\u001B[1;32m---> 19\u001B[1;33m         \u001B[0mpred\u001B[0m \u001B[1;33m=\u001B[0m \u001B[0mmodel\u001B[0m\u001B[1;33m(\u001B[0m\u001B[0mimage_batch\u001B[0m\u001B[1;33m)\u001B[0m\u001B[1;33m\u001B[0m\u001B[1;33m\u001B[0m\u001B[0m\n\u001B[0m\u001B[0;32m     20\u001B[0m \u001B[1;33m\u001B[0m\u001B[0m\n\u001B[0;32m     21\u001B[0m         \u001B[0mloss\u001B[0m \u001B[1;33m=\u001B[0m \u001B[0mcriterion\u001B[0m\u001B[1;33m(\u001B[0m\u001B[0mpred\u001B[0m\u001B[1;33m,\u001B[0m \u001B[0mlabel_batch\u001B[0m\u001B[1;33m)\u001B[0m\u001B[1;33m\u001B[0m\u001B[1;33m\u001B[0m\u001B[0m\n",
      "\u001B[1;32m~\\Projects\\Python\\ai-venv\\lib\\site-packages\\torch\\nn\\modules\\module.py\u001B[0m in \u001B[0;36m_call_impl\u001B[1;34m(self, *input, **kwargs)\u001B[0m\n\u001B[0;32m   1100\u001B[0m         if not (self._backward_hooks or self._forward_hooks or self._forward_pre_hooks or _global_backward_hooks\n\u001B[0;32m   1101\u001B[0m                 or _global_forward_hooks or _global_forward_pre_hooks):\n\u001B[1;32m-> 1102\u001B[1;33m             \u001B[1;32mreturn\u001B[0m \u001B[0mforward_call\u001B[0m\u001B[1;33m(\u001B[0m\u001B[1;33m*\u001B[0m\u001B[0minput\u001B[0m\u001B[1;33m,\u001B[0m \u001B[1;33m**\u001B[0m\u001B[0mkwargs\u001B[0m\u001B[1;33m)\u001B[0m\u001B[1;33m\u001B[0m\u001B[1;33m\u001B[0m\u001B[0m\n\u001B[0m\u001B[0;32m   1103\u001B[0m         \u001B[1;31m# Do not call functions when jit is used\u001B[0m\u001B[1;33m\u001B[0m\u001B[1;33m\u001B[0m\u001B[1;33m\u001B[0m\u001B[0m\n\u001B[0;32m   1104\u001B[0m         \u001B[0mfull_backward_hooks\u001B[0m\u001B[1;33m,\u001B[0m \u001B[0mnon_full_backward_hooks\u001B[0m \u001B[1;33m=\u001B[0m \u001B[1;33m[\u001B[0m\u001B[1;33m]\u001B[0m\u001B[1;33m,\u001B[0m \u001B[1;33m[\u001B[0m\u001B[1;33m]\u001B[0m\u001B[1;33m\u001B[0m\u001B[1;33m\u001B[0m\u001B[0m\n",
      "\u001B[1;32m~\\AppData\\Local\\Temp/ipykernel_4948/1118586818.py\u001B[0m in \u001B[0;36mforward\u001B[1;34m(self, x)\u001B[0m\n\u001B[0;32m     15\u001B[0m \u001B[1;33m\u001B[0m\u001B[0m\n\u001B[0;32m     16\u001B[0m     \u001B[1;32mdef\u001B[0m \u001B[0mforward\u001B[0m\u001B[1;33m(\u001B[0m\u001B[0mself\u001B[0m\u001B[1;33m,\u001B[0m \u001B[0mx\u001B[0m\u001B[1;33m)\u001B[0m\u001B[1;33m:\u001B[0m\u001B[1;33m\u001B[0m\u001B[1;33m\u001B[0m\u001B[0m\n\u001B[1;32m---> 17\u001B[1;33m         \u001B[0mx\u001B[0m \u001B[1;33m=\u001B[0m \u001B[0mtorch\u001B[0m\u001B[1;33m.\u001B[0m\u001B[0mrelu\u001B[0m\u001B[1;33m(\u001B[0m\u001B[0mtorch\u001B[0m\u001B[1;33m.\u001B[0m\u001B[0mmax_pool2d\u001B[0m\u001B[1;33m(\u001B[0m\u001B[0mself\u001B[0m\u001B[1;33m.\u001B[0m\u001B[0mconv1\u001B[0m\u001B[1;33m(\u001B[0m\u001B[0mx\u001B[0m\u001B[1;33m)\u001B[0m\u001B[1;33m,\u001B[0m \u001B[1;36m2\u001B[0m\u001B[1;33m)\u001B[0m\u001B[1;33m)\u001B[0m\u001B[1;33m\u001B[0m\u001B[1;33m\u001B[0m\u001B[0m\n\u001B[0m\u001B[0;32m     18\u001B[0m         \u001B[0mx\u001B[0m \u001B[1;33m=\u001B[0m \u001B[0mtorch\u001B[0m\u001B[1;33m.\u001B[0m\u001B[0mrelu\u001B[0m\u001B[1;33m(\u001B[0m\u001B[0mtorch\u001B[0m\u001B[1;33m.\u001B[0m\u001B[0mmax_pool2d\u001B[0m\u001B[1;33m(\u001B[0m\u001B[0mself\u001B[0m\u001B[1;33m.\u001B[0m\u001B[0mconv2\u001B[0m\u001B[1;33m(\u001B[0m\u001B[0mx\u001B[0m\u001B[1;33m)\u001B[0m\u001B[1;33m,\u001B[0m \u001B[1;36m2\u001B[0m\u001B[1;33m)\u001B[0m\u001B[1;33m)\u001B[0m\u001B[1;33m\u001B[0m\u001B[1;33m\u001B[0m\u001B[0m\n\u001B[0;32m     19\u001B[0m         \u001B[0mx\u001B[0m \u001B[1;33m=\u001B[0m \u001B[0mtorch\u001B[0m\u001B[1;33m.\u001B[0m\u001B[0mrelu\u001B[0m\u001B[1;33m(\u001B[0m\u001B[0mtorch\u001B[0m\u001B[1;33m.\u001B[0m\u001B[0mmax_pool2d\u001B[0m\u001B[1;33m(\u001B[0m\u001B[0mself\u001B[0m\u001B[1;33m.\u001B[0m\u001B[0mconv3\u001B[0m\u001B[1;33m(\u001B[0m\u001B[0mx\u001B[0m\u001B[1;33m)\u001B[0m\u001B[1;33m,\u001B[0m \u001B[1;36m2\u001B[0m\u001B[1;33m)\u001B[0m\u001B[1;33m)\u001B[0m\u001B[1;33m\u001B[0m\u001B[1;33m\u001B[0m\u001B[0m\n",
      "\u001B[1;32m~\\Projects\\Python\\ai-venv\\lib\\site-packages\\torch\\nn\\modules\\module.py\u001B[0m in \u001B[0;36m_call_impl\u001B[1;34m(self, *input, **kwargs)\u001B[0m\n\u001B[0;32m   1100\u001B[0m         if not (self._backward_hooks or self._forward_hooks or self._forward_pre_hooks or _global_backward_hooks\n\u001B[0;32m   1101\u001B[0m                 or _global_forward_hooks or _global_forward_pre_hooks):\n\u001B[1;32m-> 1102\u001B[1;33m             \u001B[1;32mreturn\u001B[0m \u001B[0mforward_call\u001B[0m\u001B[1;33m(\u001B[0m\u001B[1;33m*\u001B[0m\u001B[0minput\u001B[0m\u001B[1;33m,\u001B[0m \u001B[1;33m**\u001B[0m\u001B[0mkwargs\u001B[0m\u001B[1;33m)\u001B[0m\u001B[1;33m\u001B[0m\u001B[1;33m\u001B[0m\u001B[0m\n\u001B[0m\u001B[0;32m   1103\u001B[0m         \u001B[1;31m# Do not call functions when jit is used\u001B[0m\u001B[1;33m\u001B[0m\u001B[1;33m\u001B[0m\u001B[1;33m\u001B[0m\u001B[0m\n\u001B[0;32m   1104\u001B[0m         \u001B[0mfull_backward_hooks\u001B[0m\u001B[1;33m,\u001B[0m \u001B[0mnon_full_backward_hooks\u001B[0m \u001B[1;33m=\u001B[0m \u001B[1;33m[\u001B[0m\u001B[1;33m]\u001B[0m\u001B[1;33m,\u001B[0m \u001B[1;33m[\u001B[0m\u001B[1;33m]\u001B[0m\u001B[1;33m\u001B[0m\u001B[1;33m\u001B[0m\u001B[0m\n",
      "\u001B[1;32m~\\Projects\\Python\\ai-venv\\lib\\site-packages\\torch\\nn\\modules\\conv.py\u001B[0m in \u001B[0;36mforward\u001B[1;34m(self, input)\u001B[0m\n\u001B[0;32m    444\u001B[0m \u001B[1;33m\u001B[0m\u001B[0m\n\u001B[0;32m    445\u001B[0m     \u001B[1;32mdef\u001B[0m \u001B[0mforward\u001B[0m\u001B[1;33m(\u001B[0m\u001B[0mself\u001B[0m\u001B[1;33m,\u001B[0m \u001B[0minput\u001B[0m\u001B[1;33m:\u001B[0m \u001B[0mTensor\u001B[0m\u001B[1;33m)\u001B[0m \u001B[1;33m->\u001B[0m \u001B[0mTensor\u001B[0m\u001B[1;33m:\u001B[0m\u001B[1;33m\u001B[0m\u001B[1;33m\u001B[0m\u001B[0m\n\u001B[1;32m--> 446\u001B[1;33m         \u001B[1;32mreturn\u001B[0m \u001B[0mself\u001B[0m\u001B[1;33m.\u001B[0m\u001B[0m_conv_forward\u001B[0m\u001B[1;33m(\u001B[0m\u001B[0minput\u001B[0m\u001B[1;33m,\u001B[0m \u001B[0mself\u001B[0m\u001B[1;33m.\u001B[0m\u001B[0mweight\u001B[0m\u001B[1;33m,\u001B[0m \u001B[0mself\u001B[0m\u001B[1;33m.\u001B[0m\u001B[0mbias\u001B[0m\u001B[1;33m)\u001B[0m\u001B[1;33m\u001B[0m\u001B[1;33m\u001B[0m\u001B[0m\n\u001B[0m\u001B[0;32m    447\u001B[0m \u001B[1;33m\u001B[0m\u001B[0m\n\u001B[0;32m    448\u001B[0m \u001B[1;32mclass\u001B[0m \u001B[0mConv3d\u001B[0m\u001B[1;33m(\u001B[0m\u001B[0m_ConvNd\u001B[0m\u001B[1;33m)\u001B[0m\u001B[1;33m:\u001B[0m\u001B[1;33m\u001B[0m\u001B[1;33m\u001B[0m\u001B[0m\n",
      "\u001B[1;32m~\\Projects\\Python\\ai-venv\\lib\\site-packages\\torch\\nn\\modules\\conv.py\u001B[0m in \u001B[0;36m_conv_forward\u001B[1;34m(self, input, weight, bias)\u001B[0m\n\u001B[0;32m    440\u001B[0m                             \u001B[0mweight\u001B[0m\u001B[1;33m,\u001B[0m \u001B[0mbias\u001B[0m\u001B[1;33m,\u001B[0m \u001B[0mself\u001B[0m\u001B[1;33m.\u001B[0m\u001B[0mstride\u001B[0m\u001B[1;33m,\u001B[0m\u001B[1;33m\u001B[0m\u001B[1;33m\u001B[0m\u001B[0m\n\u001B[0;32m    441\u001B[0m                             _pair(0), self.dilation, self.groups)\n\u001B[1;32m--> 442\u001B[1;33m         return F.conv2d(input, weight, bias, self.stride,\n\u001B[0m\u001B[0;32m    443\u001B[0m                         self.padding, self.dilation, self.groups)\n\u001B[0;32m    444\u001B[0m \u001B[1;33m\u001B[0m\u001B[0m\n",
      "\u001B[1;31mKeyboardInterrupt\u001B[0m: "
     ]
    }
   ],
   "source": [
    "n_epochs = 10\n",
    "log_frequency = 10\n",
    "\n",
    "model = PedestrianDetector()\n",
    "model.to(device)\n",
    "\n",
    "criterion = nn.BCELoss()\n",
    "optimizer = optim.Adam(model.parameters(), lr=0.0001)\n",
    "\n",
    "loss_history = []\n",
    "accuracy_history = []\n",
    "\n",
    "for epoch in range(n_epochs):\n",
    "    running_loss = 0.0\n",
    "    running_accuracy = 0.0\n",
    "    model.train()\n",
    "    for step, (image_batch, label_batch) in enumerate(train_dataloader):\n",
    "        image_batch, label_batch = image_batch.to(device), label_batch.to(device)\n",
    "\n",
    "        optimizer.zero_grad()\n",
    "\n",
    "        pred = model(image_batch)\n",
    "\n",
    "        loss = criterion(pred, label_batch)\n",
    "\n",
    "        loss.backward()\n",
    "\n",
    "        optimizer.step()\n",
    "\n",
    "        current_loss = loss.item()\n",
    "        current_accuracy = get_accuracy(pred, label_batch)\n",
    "\n",
    "        running_loss += current_loss\n",
    "        running_accuracy += current_accuracy\n",
    "        if (step + 1) % log_frequency == 0:\n",
    "            print(f'Train [{epoch + 1}/{n_epochs}, {step + 1}/{len(train_dataloader)}]: Loss {running_loss / log_frequency}, Accuracy {running_accuracy / log_frequency}')\n",
    "            running_loss = 0.0\n",
    "            running_accuracy = 0.0\n",
    "\n",
    "    running_loss = 0\n",
    "    model.eval()\n",
    "    for step, (image_batch, label_batch) in enumerate(val_dataloader):\n",
    "        image_batch, label_batch = image_batch.to(device), label_batch.to(device)\n",
    "\n",
    "        pred = model(image_batch)\n",
    "\n",
    "        loss = criterion(pred, label_batch)\n",
    "\n",
    "        current_loss = loss.item()\n",
    "        current_accuracy = get_accuracy(pred, label_batch)\n",
    "\n",
    "        running_loss += current_loss\n",
    "        running_accuracy += current_accuracy\n",
    "        if (step + 1) % log_frequency == 0:\n",
    "            print(f'Val [{epoch + 1}/{n_epochs}, {step + 1}/{len(val_dataloader)}]: Loss {running_loss / log_frequency}, Accuracy {running_accuracy / log_frequency}')\n",
    "            running_loss = 0.0\n",
    "            running_accuracy = 0.0"
   ],
   "metadata": {
    "collapsed": false,
    "pycharm": {
     "name": "#%%\n"
    }
   }
  },
  {
   "cell_type": "code",
   "execution_count": 47,
   "outputs": [],
   "source": [
    "torch.save(model, \"model.pth\")"
   ],
   "metadata": {
    "collapsed": false,
    "pycharm": {
     "name": "#%%\n"
    }
   }
  }
 ],
 "metadata": {
  "kernelspec": {
   "name": "python3",
   "language": "python",
   "display_name": "Python 3 (ipykernel)"
  },
  "language_info": {
   "codemirror_mode": {
    "name": "ipython",
    "version": 3
   },
   "file_extension": ".py",
   "mimetype": "text/x-python",
   "name": "python",
   "nbconvert_exporter": "python",
   "pygments_lexer": "ipython3",
   "version": "3.7.13"
  }
 },
 "nbformat": 4,
 "nbformat_minor": 5
}