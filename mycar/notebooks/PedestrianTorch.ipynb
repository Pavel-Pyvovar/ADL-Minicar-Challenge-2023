{
 "cells": [
  {
   "cell_type": "code",
   "execution_count": 1,
   "id": "eb98512d-deca-4de6-aad9-8990e3b25ef7",
   "metadata": {
    "pycharm": {
     "name": "#%%\n"
    }
   },
   "outputs": [
    {
     "name": "stdout",
     "output_type": "stream",
     "text": [
      "1.10.1+cpu\n"
     ]
    }
   ],
   "source": [
    "import os\n",
    "\n",
    "import torch\n",
    "from torch.utils.data import Dataset\n",
    "from torch.utils.data import DataLoader\n",
    "import torchvision.transforms as transforms\n",
    "\n",
    "import numpy as np\n",
    "import matplotlib.pyplot as plt\n",
    "import cv2\n",
    "from sklearn.model_selection import train_test_split\n",
    "\n",
    "import numpy as np\n",
    "import pandas as pd\n",
    "from tqdm.notebook import tqdm\n",
    "import matplotlib.pyplot as plt\n",
    "import torch\n",
    "import torchvision\n",
    "import torch.nn as nn\n",
    "import torch.optim as optim\n",
    "from torchvision import transforms, utils, datasets\n",
    "from torch.utils.data import Dataset, DataLoader, SubsetRandomSampler\n",
    "from sklearn.metrics import classification_report, confusion_matrix\n",
    "\n",
    "print(torch.__version__)"
   ]
  },
  {
   "cell_type": "code",
   "execution_count": 38,
   "id": "f30ebeb8-fb98-4fae-bbf1-84e06a68555a",
   "metadata": {
    "pycharm": {
     "name": "#%%\n"
    }
   },
   "outputs": [],
   "source": [
    "data_path = \"./data\"\n",
    "data_path_zebra = os.path.join(data_path, \"zebra_dataset\")\n",
    "data_path_without = os.path.join(data_path_zebra, \"without\")\n",
    "data_path_with = os.path.join(data_path_zebra, \"with\")\n",
    "\n",
    "device = \"cuda\" if torch.cuda.is_available() else \"cpu\""
   ]
  },
  {
   "cell_type": "code",
   "execution_count": 7,
   "id": "b837e651-8a8c-4ebc-a8bf-358ed76dab02",
   "metadata": {
    "pycharm": {
     "name": "#%%\n"
    }
   },
   "outputs": [
    {
     "data": {
      "text/plain": "['./data\\\\zebra_dataset\\\\without\\\\0_cam_image_array_.jpg',\n './data\\\\zebra_dataset\\\\without\\\\1000_cam_image_array_.jpg',\n './data\\\\zebra_dataset\\\\without\\\\1001_cam_image_array_.jpg',\n './data\\\\zebra_dataset\\\\without\\\\1002_cam_image_array_.jpg',\n './data\\\\zebra_dataset\\\\without\\\\1003_cam_image_array_.jpg',\n './data\\\\zebra_dataset\\\\without\\\\1004_cam_image_array_.jpg',\n './data\\\\zebra_dataset\\\\without\\\\1005_cam_image_array_.jpg',\n './data\\\\zebra_dataset\\\\without\\\\1006_cam_image_array_.jpg',\n './data\\\\zebra_dataset\\\\without\\\\1007_cam_image_array_.jpg',\n './data\\\\zebra_dataset\\\\without\\\\1008_cam_image_array_.jpg']"
     },
     "execution_count": 7,
     "metadata": {},
     "output_type": "execute_result"
    }
   ],
   "source": [
    "# Collected image paths and labels\n",
    "images = []\n",
    "labels = []\n",
    "\n",
    "label_without = 0\n",
    "label_with = 1\n",
    "\n",
    "# Collect paths of images WITHOUT pedestrians\n",
    "for image_name in os.listdir(data_path_without):\n",
    "    images.append(os.path.join(data_path_without, image_name))\n",
    "    labels.append(label_without)\n",
    "\n",
    "# Collect paths of images WITH pedestrians\n",
    "for image_name in os.listdir(data_path_with):\n",
    "    images.append(os.path.join(data_path_with, image_name))\n",
    "    labels.append(label_without)\n",
    "\n",
    "images[:10]"
   ]
  },
  {
   "cell_type": "code",
   "execution_count": 8,
   "id": "3deb15d4-1a20-48b7-a618-16d319818f63",
   "metadata": {
    "pycharm": {
     "name": "#%%\n"
    }
   },
   "outputs": [],
   "source": [
    "X_train, X_test, y_train, y_test = train_test_split(images, labels, test_size=0.1, shuffle=True, random_state=2022)\n",
    "X_train, X_val, y_train, y_val = train_test_split(X_train, y_train, test_size=0.2, shuffle=True, random_state=2022)"
   ]
  },
  {
   "cell_type": "code",
   "execution_count": 42,
   "id": "1db707e1-62cf-46a2-952b-cc6a22215f89",
   "metadata": {
    "pycharm": {
     "name": "#%%\n"
    }
   },
   "outputs": [],
   "source": [
    "class PedestrianDataset(Dataset):\n",
    "    def __init__(self, img_paths, img_labels, transform=None):\n",
    "        self.img_paths = img_paths\n",
    "        self.img_labels = img_labels\n",
    "        self.transform = transform\n",
    "\n",
    "    def __len__(self):\n",
    "        return len(self.img_labels)\n",
    "\n",
    "    def __getitem__(self, idx):\n",
    "        image_bgr = cv2.imread(self.img_paths[idx])\n",
    "        while image_bgr is None:  # Failed to load the image\n",
    "            idx += 1\n",
    "            image_bgr = cv2.imread(self.img_paths[idx])\n",
    "\n",
    "        image_rgb = cv2.cvtColor(image_bgr, cv2.COLOR_BGR2RGB)\n",
    "        if self.transform:\n",
    "            image_rgb = self.transform(image_rgb)\n",
    "\n",
    "        label = torch.Tensor([self.img_labels[idx]])\n",
    "\n",
    "        return image_rgb, label"
   ]
  },
  {
   "cell_type": "code",
   "execution_count": 24,
   "id": "683068ce-eb6f-4022-9f29-29935a3b0cc8",
   "metadata": {
    "pycharm": {
     "name": "#%%\n"
    }
   },
   "outputs": [],
   "source": [
    "def get_mean_std(loader):\n",
    "    channels_sum, channels_squared_sum, num_batches = 0, 0, 0\n",
    "\n",
    "    for data, _ in loader:\n",
    "        channels_sum += torch.mean(data, dim=[0, 2, 3])\n",
    "        channels_squared_sum += torch.mean(data ** 2, dim=[0, 2, 3])\n",
    "        num_batches += 1\n",
    "\n",
    "    mean = channels_sum / num_batches\n",
    "    std = (channels_squared_sum / num_batches - mean ** 2) ** 0.5\n",
    "\n",
    "    return mean, std"
   ]
  },
  {
   "cell_type": "code",
   "execution_count": 28,
   "id": "4de7d11d-96ff-4993-95eb-0761b9abd61d",
   "metadata": {
    "pycharm": {
     "name": "#%%\n"
    }
   },
   "outputs": [
    {
     "name": "stdout",
     "output_type": "stream",
     "text": [
      "Mean: tensor([-0.0003, -0.0005, -0.0003])\n",
      "Std: tensor([1.0001, 1.0000, 0.9998])\n"
     ]
    }
   ],
   "source": [
    "data_transform = transforms.Compose([\n",
    "    transforms.ToTensor(),\n",
    "])\n",
    "\n",
    "train_dataset = PedestrianDataset(X_train, y_train, transform=data_transform)\n",
    "train_dataloader = DataLoader(train_dataset, batch_size=64, shuffle=True)\n",
    "\n",
    "mean, std = get_mean_std(train_dataloader)\n",
    "print(f\"Mean: {mean}\")\n",
    "print(f\"Std: {std}\")"
   ]
  },
  {
   "cell_type": "code",
   "execution_count": 43,
   "id": "51f4ae91-ab04-4c33-ae37-41c623f1cd46",
   "metadata": {
    "pycharm": {
     "name": "#%%\n"
    }
   },
   "outputs": [],
   "source": [
    "data_transform = transforms.Compose([\n",
    "    transforms.ToTensor(),\n",
    "    transforms.Normalize(\n",
    "        mean=[0.4251, 0.4787, 0.4311],\n",
    "        std=[0.2203, 0.2276, 0.2366]\n",
    "    ),\n",
    "])\n",
    "\n",
    "\n",
    "train_dataset = PedestrianDataset(X_train, y_train, transform=data_transform)\n",
    "val_dataset = PedestrianDataset(X_val, y_val, transform=data_transform)\n",
    "test_dataset = PedestrianDataset(X_test, y_test, transform=data_transform)\n",
    "\n",
    "train_dataloader = DataLoader(train_dataset, batch_size=64, shuffle=True)\n",
    "val_dataloader = DataLoader(val_dataset, batch_size=64, shuffle=True)\n",
    "test_dataloader = DataLoader(test_dataset, batch_size=64, shuffle=True)"
   ]
  },
  {
   "cell_type": "code",
   "execution_count": 44,
   "outputs": [
    {
     "name": "stdout",
     "output_type": "stream",
     "text": [
      "PedestrianDetector(\n",
      "  (conv1): Conv2d(3, 64, kernel_size=(3, 3), stride=(1, 1))\n",
      "  (dropout1): Dropout2d(p=0.1, inplace=False)\n",
      "  (conv2): Conv2d(64, 32, kernel_size=(3, 3), stride=(1, 1))\n",
      "  (dropout2): Dropout2d(p=0.1, inplace=False)\n",
      "  (conv3): Conv2d(32, 16, kernel_size=(3, 3), stride=(1, 1))\n",
      "  (dropout3): Dropout2d(p=0.1, inplace=False)\n",
      "  (fc): Linear(in_features=3744, out_features=1, bias=True)\n",
      ")\n",
      "torch.Size([64, 3, 120, 160])\n",
      "torch.Size([64, 1])\n"
     ]
    },
    {
     "data": {
      "text/plain": "tensor([[0.5535],\n        [0.5062],\n        [0.5253],\n        [0.5214],\n        [0.5070],\n        [0.5205],\n        [0.5148],\n        [0.4954],\n        [0.5200],\n        [0.5109],\n        [0.5113],\n        [0.5121],\n        [0.5165],\n        [0.5200],\n        [0.5172],\n        [0.5144],\n        [0.5218],\n        [0.5326],\n        [0.5146],\n        [0.4985],\n        [0.5111],\n        [0.5013],\n        [0.5249],\n        [0.5197],\n        [0.5210],\n        [0.5177],\n        [0.5238],\n        [0.5006],\n        [0.5092],\n        [0.5176],\n        [0.4924],\n        [0.5249],\n        [0.5025],\n        [0.5087],\n        [0.4969],\n        [0.5248],\n        [0.5179],\n        [0.5188],\n        [0.5176],\n        [0.5337],\n        [0.5509],\n        [0.5134],\n        [0.4950],\n        [0.5160],\n        [0.5267],\n        [0.4957],\n        [0.5063],\n        [0.5005],\n        [0.5255],\n        [0.5094],\n        [0.5056],\n        [0.5082],\n        [0.5084],\n        [0.5369],\n        [0.5382],\n        [0.5495],\n        [0.5055],\n        [0.4953],\n        [0.5267],\n        [0.5203],\n        [0.5081],\n        [0.5192],\n        [0.5176],\n        [0.5202]], grad_fn=<SigmoidBackward0>)"
     },
     "execution_count": 44,
     "metadata": {},
     "output_type": "execute_result"
    }
   ],
   "source": [
    "class PedestrianDetector(nn.Module):\n",
    "    def __init__(self):\n",
    "        super(PedestrianDetector, self).__init__()\n",
    "\n",
    "        self.conv1 = nn.Conv2d(in_channels=3, out_channels=64, kernel_size=3)\n",
    "        self.dropout1 = nn.Dropout2d(p=0.1)\n",
    "\n",
    "        self.conv2 = nn.Conv2d(in_channels=64, out_channels=32, kernel_size=3)\n",
    "        self.dropout2 = nn.Dropout2d(p=0.1)\n",
    "\n",
    "        self.conv3 = nn.Conv2d(in_channels=32, out_channels=16, kernel_size=3)\n",
    "        self.dropout3 = nn.Dropout2d(p=0.1)\n",
    "\n",
    "        self.fc = nn.Linear(3744, 1)\n",
    "\n",
    "    def forward(self, x):\n",
    "        x = torch.relu(torch.max_pool2d(self.dropout1(self.conv1(x)), 2))\n",
    "        x = torch.relu(torch.max_pool2d(self.dropout2(self.conv2(x)), 2))\n",
    "        x = torch.relu(torch.max_pool2d(self.dropout3(self.conv3(x)), 2))\n",
    "        x = torch.sigmoid(self.fc(x.view(x.shape[0], -1)))\n",
    "        return x\n",
    "\n",
    "\n",
    "model = PedestrianDetector()\n",
    "model.train()\n",
    "model.to(device)\n",
    "print(model)\n",
    "\n",
    "image_batch, label_batch = next(iter(train_dataloader))\n",
    "print(image_batch.shape)\n",
    "print(label_batch.shape)\n",
    "\n",
    "model(image_batch)"
   ],
   "metadata": {
    "collapsed": false,
    "pycharm": {
     "name": "#%%\n"
    }
   }
  },
  {
   "cell_type": "code",
   "execution_count": 46,
   "outputs": [
    {
     "name": "stdout",
     "output_type": "stream",
     "text": [
      "Epoch: 0\n",
      "Step: 0\n",
      "Step: 1\n",
      "Step: 2\n",
      "Step: 3\n",
      "Step: 4\n",
      "Step: 5\n",
      "Step: 6\n"
     ]
    },
    {
     "ename": "KeyboardInterrupt",
     "evalue": "",
     "output_type": "error",
     "traceback": [
      "\u001B[1;31m---------------------------------------------------------------------------\u001B[0m",
      "\u001B[1;31mKeyboardInterrupt\u001B[0m                         Traceback (most recent call last)",
      "\u001B[1;32m~\\AppData\\Local\\Temp/ipykernel_4948/3906077065.py\u001B[0m in \u001B[0;36m<module>\u001B[1;34m\u001B[0m\n\u001B[0;32m     17\u001B[0m         \u001B[0mloss\u001B[0m \u001B[1;33m=\u001B[0m \u001B[0mcriterion\u001B[0m\u001B[1;33m(\u001B[0m\u001B[0mpred\u001B[0m\u001B[1;33m,\u001B[0m \u001B[0mlabel_batch\u001B[0m\u001B[1;33m)\u001B[0m\u001B[1;33m\u001B[0m\u001B[1;33m\u001B[0m\u001B[0m\n\u001B[0;32m     18\u001B[0m \u001B[1;33m\u001B[0m\u001B[0m\n\u001B[1;32m---> 19\u001B[1;33m         \u001B[0mloss\u001B[0m\u001B[1;33m.\u001B[0m\u001B[0mbackward\u001B[0m\u001B[1;33m(\u001B[0m\u001B[1;33m)\u001B[0m\u001B[1;33m\u001B[0m\u001B[1;33m\u001B[0m\u001B[0m\n\u001B[0m\u001B[0;32m     20\u001B[0m         \u001B[0moptimizer\u001B[0m\u001B[1;33m.\u001B[0m\u001B[0mstep\u001B[0m\u001B[1;33m(\u001B[0m\u001B[1;33m)\u001B[0m\u001B[1;33m\u001B[0m\u001B[1;33m\u001B[0m\u001B[0m\n",
      "\u001B[1;32m~\\Projects\\Python\\ai-venv\\lib\\site-packages\\torch\\_tensor.py\u001B[0m in \u001B[0;36mbackward\u001B[1;34m(self, gradient, retain_graph, create_graph, inputs)\u001B[0m\n\u001B[0;32m    305\u001B[0m                 \u001B[0mcreate_graph\u001B[0m\u001B[1;33m=\u001B[0m\u001B[0mcreate_graph\u001B[0m\u001B[1;33m,\u001B[0m\u001B[1;33m\u001B[0m\u001B[1;33m\u001B[0m\u001B[0m\n\u001B[0;32m    306\u001B[0m                 inputs=inputs)\n\u001B[1;32m--> 307\u001B[1;33m         \u001B[0mtorch\u001B[0m\u001B[1;33m.\u001B[0m\u001B[0mautograd\u001B[0m\u001B[1;33m.\u001B[0m\u001B[0mbackward\u001B[0m\u001B[1;33m(\u001B[0m\u001B[0mself\u001B[0m\u001B[1;33m,\u001B[0m \u001B[0mgradient\u001B[0m\u001B[1;33m,\u001B[0m \u001B[0mretain_graph\u001B[0m\u001B[1;33m,\u001B[0m \u001B[0mcreate_graph\u001B[0m\u001B[1;33m,\u001B[0m \u001B[0minputs\u001B[0m\u001B[1;33m=\u001B[0m\u001B[0minputs\u001B[0m\u001B[1;33m)\u001B[0m\u001B[1;33m\u001B[0m\u001B[1;33m\u001B[0m\u001B[0m\n\u001B[0m\u001B[0;32m    308\u001B[0m \u001B[1;33m\u001B[0m\u001B[0m\n\u001B[0;32m    309\u001B[0m     \u001B[1;32mdef\u001B[0m \u001B[0mregister_hook\u001B[0m\u001B[1;33m(\u001B[0m\u001B[0mself\u001B[0m\u001B[1;33m,\u001B[0m \u001B[0mhook\u001B[0m\u001B[1;33m)\u001B[0m\u001B[1;33m:\u001B[0m\u001B[1;33m\u001B[0m\u001B[1;33m\u001B[0m\u001B[0m\n",
      "\u001B[1;32m~\\Projects\\Python\\ai-venv\\lib\\site-packages\\torch\\autograd\\__init__.py\u001B[0m in \u001B[0;36mbackward\u001B[1;34m(tensors, grad_tensors, retain_graph, create_graph, grad_variables, inputs)\u001B[0m\n\u001B[0;32m    152\u001B[0m         \u001B[0mretain_graph\u001B[0m \u001B[1;33m=\u001B[0m \u001B[0mcreate_graph\u001B[0m\u001B[1;33m\u001B[0m\u001B[1;33m\u001B[0m\u001B[0m\n\u001B[0;32m    153\u001B[0m \u001B[1;33m\u001B[0m\u001B[0m\n\u001B[1;32m--> 154\u001B[1;33m     Variable._execution_engine.run_backward(\n\u001B[0m\u001B[0;32m    155\u001B[0m         \u001B[0mtensors\u001B[0m\u001B[1;33m,\u001B[0m \u001B[0mgrad_tensors_\u001B[0m\u001B[1;33m,\u001B[0m \u001B[0mretain_graph\u001B[0m\u001B[1;33m,\u001B[0m \u001B[0mcreate_graph\u001B[0m\u001B[1;33m,\u001B[0m \u001B[0minputs\u001B[0m\u001B[1;33m,\u001B[0m\u001B[1;33m\u001B[0m\u001B[1;33m\u001B[0m\u001B[0m\n\u001B[0;32m    156\u001B[0m         allow_unreachable=True, accumulate_grad=True)  # allow_unreachable flag\n",
      "\u001B[1;31mKeyboardInterrupt\u001B[0m: "
     ]
    }
   ],
   "source": [
    "n_epochs = 10\n",
    "\n",
    "criterion = nn.BCELoss()\n",
    "optimizer = optim.Adam(model.parameters(), lr=0.008)\n",
    "\n",
    "for epoch in range(n_epochs):\n",
    "    print(f\"Epoch: {epoch}\")\n",
    "    for step, (image_batch, label_batch) in enumerate(train_dataloader):\n",
    "        print(f\"Step: {step}\")\n",
    "\n",
    "        image_batch, label_batch = image_batch.to(device), label_batch.to(device)\n",
    "\n",
    "        optimizer.zero_grad()\n",
    "\n",
    "        pred = model(image_batch)\n",
    "\n",
    "        loss = criterion(pred, label_batch)\n",
    "\n",
    "        loss.backward()\n",
    "        optimizer.step()"
   ],
   "metadata": {
    "collapsed": false,
    "pycharm": {
     "name": "#%%\n"
    }
   }
  },
  {
   "cell_type": "code",
   "execution_count": 47,
   "outputs": [],
   "source": [
    "torch.save(model, \"model.pth\")"
   ],
   "metadata": {
    "collapsed": false,
    "pycharm": {
     "name": "#%%\n"
    }
   }
  }
 ],
 "metadata": {
  "kernelspec": {
   "name": "python3",
   "language": "python",
   "display_name": "Python 3 (ipykernel)"
  },
  "language_info": {
   "codemirror_mode": {
    "name": "ipython",
    "version": 3
   },
   "file_extension": ".py",
   "mimetype": "text/x-python",
   "name": "python",
   "nbconvert_exporter": "python",
   "pygments_lexer": "ipython3",
   "version": "3.7.13"
  }
 },
 "nbformat": 4,
 "nbformat_minor": 5
}