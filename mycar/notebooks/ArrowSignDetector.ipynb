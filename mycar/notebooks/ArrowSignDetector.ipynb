{
 "cells": [
  {
   "cell_type": "code",
   "execution_count": 1,
   "id": "d8e67217-756e-453f-923f-239eb346f580",
   "metadata": {
    "pycharm": {
     "is_executing": true
    }
   },
   "outputs": [
    {
     "name": "stdout",
     "output_type": "stream",
     "text": [
      "TensorFlow: 2.2.0\n"
     ]
    }
   ],
   "source": [
    "import os\n",
    "from os.path import join\n",
    "import random\n",
    "import shutil\n",
    "from pathlib import Path\n",
    "\n",
    "import numpy as np\n",
    "import matplotlib.pyplot as plt\n",
    "import cv2\n",
    "\n",
    "import tensorflow as tf\n",
    "from tensorflow.keras.models import Model\n",
    "from tensorflow.keras.optimizers import Adam\n",
    "from tensorflow.keras.layers import (\n",
    "    InputLayer, Conv2D, Activation, Flatten, Dense, MaxPooling2D, BatchNormalization, Dropout)\n",
    "\n",
    "from sklearn.model_selection import train_test_split\n",
    "from sklearn.metrics import accuracy_score\n",
    "\n",
    "print(f\"TensorFlow: {tf.__version__}\")"
   ]
  },
  {
   "attachments": {},
   "cell_type": "markdown",
   "id": "5bd84769-bf6f-4a90-9a5b-78a7e6ca3735",
   "metadata": {},
   "source": [
    "# Prepare Arrow Dataset"
   ]
  },
  {
   "cell_type": "code",
   "execution_count": 2,
   "id": "93ea151d-9622-4feb-b784-aa71ef39093b",
   "metadata": {},
   "outputs": [
    {
     "name": "stdout",
     "output_type": "stream",
     "text": [
      "/Users/Pavlo/opt/anaconda3/envs/donkey/bin/python\n"
     ]
    }
   ],
   "source": [
    "!which python"
   ]
  },
  {
   "cell_type": "code",
   "execution_count": 3,
   "id": "d431a652-e49b-405c-8258-9d1dbc4369d6",
   "metadata": {},
   "outputs": [
    {
     "name": "stdout",
     "output_type": "stream",
     "text": [
      "\u001b[34marrow_sign\u001b[m\u001b[m/           \u001b[34mpedestrians_at_start\u001b[m\u001b[m/ \u001b[34mstop_sign_v2\u001b[m\u001b[m/\n",
      "\u001b[34marrow_sign_v2\u001b[m\u001b[m/        \u001b[34msteering\u001b[m\u001b[m/             \u001b[34mzebra_dataset\u001b[m\u001b[m/\n",
      "\u001b[34mcar_dataset\u001b[m\u001b[m/          \u001b[34msteering_night\u001b[m\u001b[m/\n",
      "\u001b[34mpedestrian_new\u001b[m\u001b[m/       \u001b[34mstop_sign\u001b[m\u001b[m/\n"
     ]
    }
   ],
   "source": [
    "ls ../data"
   ]
  },
  {
   "cell_type": "code",
   "execution_count": 4,
   "id": "10e302f8-2413-4596-a0ca-7bbb74d539f3",
   "metadata": {},
   "outputs": [
    {
     "name": "stdout",
     "output_type": "stream",
     "text": [
      "\u001b[34mleft\u001b[m\u001b[m/  \u001b[34mright\u001b[m\u001b[m/\n"
     ]
    }
   ],
   "source": [
    "ls ../data/arrow_sign_v2"
   ]
  },
  {
   "cell_type": "code",
   "execution_count": 8,
   "id": "e989ccd9-d878-4412-b0f1-953dcb406a98",
   "metadata": {},
   "outputs": [
    {
     "name": "stdout",
     "output_type": "stream",
     "text": [
      "    1310\n"
     ]
    }
   ],
   "source": [
    "ls ../data/arrow_sign_v2/left | wc -l"
   ]
  },
  {
   "cell_type": "code",
   "execution_count": 7,
   "id": "bc442f78-662b-43a6-b673-1b30a4b0d53d",
   "metadata": {},
   "outputs": [
    {
     "name": "stdout",
     "output_type": "stream",
     "text": [
      "    1310\n"
     ]
    }
   ],
   "source": [
    "ls ../data/arrow_sign_v2/right | wc -l"
   ]
  },
  {
   "cell_type": "code",
   "execution_count": 19,
   "id": "dda8ec8d-9696-4510-b804-333d9ce106cf",
   "metadata": {},
   "outputs": [],
   "source": [
    "data_path = \"../data\"\n",
    "data_path_arrow = join(data_path, \"arrow_sign_v2\")\n",
    "data_path_steering = join(data_path, \"steering\")"
   ]
  },
  {
   "cell_type": "code",
   "execution_count": 11,
   "id": "0b5f4fe4-e1b8-4030-9f59-f715f66d36c4",
   "metadata": {},
   "outputs": [],
   "source": [
    "label_without = 0\n",
    "label_left = 1\n",
    "label_right = 2"
   ]
  },
  {
   "cell_type": "code",
   "execution_count": 12,
   "id": "84928611-a4b6-4d3a-a0db-5b2ccbb8d059",
   "metadata": {},
   "outputs": [
    {
     "name": "stdout",
     "output_type": "stream",
     "text": [
      "\u001b[34mtub_3_22-10-25\u001b[m\u001b[m/ \u001b[34mtub_5_22-10-27\u001b[m\u001b[m/ \u001b[34mtub_7_22-11-01\u001b[m\u001b[m/\n",
      "\u001b[34mtub_4_22-10-25\u001b[m\u001b[m/ \u001b[34mtub_6_22-11-01\u001b[m\u001b[m/ \u001b[34mtub_8_22-11-03\u001b[m\u001b[m/\n"
     ]
    }
   ],
   "source": [
    "ls {data_path_steering}"
   ]
  },
  {
   "cell_type": "code",
   "execution_count": 13,
   "id": "48ba7626-836c-43ad-bc5e-0894734c2efd",
   "metadata": {},
   "outputs": [],
   "source": [
    "steering_images = []\n",
    "for thing in os.listdir(data_path_steering):\n",
    "    if thing.startswith(\"tub\") and not thing.startswith(\"tub_3\"):\n",
    "        tub_path = join(data_path_steering, thing, \"images\")\n",
    "        for img in os.listdir(tub_path):\n",
    "            steering_images.append(join(tub_path, img))"
   ]
  },
  {
   "cell_type": "code",
   "execution_count": 14,
   "id": "4bb3bca9-23ad-49fc-be83-f4a31f75b6a8",
   "metadata": {},
   "outputs": [
    {
     "data": {
      "text/plain": [
       "62463"
      ]
     },
     "execution_count": 14,
     "metadata": {},
     "output_type": "execute_result"
    }
   ],
   "source": [
    "len(steering_images)"
   ]
  },
  {
   "cell_type": "code",
   "execution_count": 15,
   "id": "57681b71-59b6-4e88-8c59-54d9473cfced",
   "metadata": {},
   "outputs": [
    {
     "data": {
      "text/plain": [
       "['../data/steering/tub_6_22-11-01/images/8580_cam_image_array_.jpg',\n",
       " '../data/steering/tub_6_22-11-01/images/9006_cam_image_array_.jpg',\n",
       " '../data/steering/tub_6_22-11-01/images/11761_cam_image_array_.jpg',\n",
       " '../data/steering/tub_6_22-11-01/images/8704_cam_image_array_.jpg',\n",
       " '../data/steering/tub_6_22-11-01/images/9282_cam_image_array_.jpg',\n",
       " '../data/steering/tub_6_22-11-01/images/7739_cam_image_array_.jpg',\n",
       " '../data/steering/tub_6_22-11-01/images/10063_cam_image_array_.jpg',\n",
       " '../data/steering/tub_6_22-11-01/images/4979_cam_image_array_.jpg',\n",
       " '../data/steering/tub_6_22-11-01/images/11792_cam_image_array_.jpg',\n",
       " '../data/steering/tub_6_22-11-01/images/10214_cam_image_array_.jpg']"
      ]
     },
     "execution_count": 15,
     "metadata": {},
     "output_type": "execute_result"
    }
   ],
   "source": [
    "steering_images[:10]"
   ]
  },
  {
   "cell_type": "code",
   "execution_count": 16,
   "id": "87be6aca-03ef-4518-90f1-4ea200e5890a",
   "metadata": {},
   "outputs": [],
   "source": [
    "random.seed(2022)\n",
    "images = random.sample(steering_images, k=5000)"
   ]
  },
  {
   "cell_type": "code",
   "execution_count": 17,
   "id": "44f03bba-c4ac-4137-91bb-859dcc36f2ed",
   "metadata": {
    "tags": []
   },
   "outputs": [
    {
     "data": {
      "text/plain": [
       "['../data/steering/tub_8_22-11-03/images/18667_cam_image_array_.jpg',\n",
       " '../data/steering/tub_7_22-11-01/images/404_cam_image_array_.jpg',\n",
       " '../data/steering/tub_8_22-11-03/images/16856_cam_image_array_.jpg',\n",
       " '../data/steering/tub_8_22-11-03/images/19572_cam_image_array_.jpg',\n",
       " '../data/steering/tub_7_22-11-01/images/3388_cam_image_array_.jpg',\n",
       " '../data/steering/tub_8_22-11-03/images/15374_cam_image_array_.jpg',\n",
       " '../data/steering/tub_6_22-11-01/images/663_cam_image_array_.jpg',\n",
       " '../data/steering/tub_8_22-11-03/images/17728_cam_image_array_.jpg',\n",
       " '../data/steering/tub_4_22-10-25/images/9922_cam_image_array_.jpg',\n",
       " '../data/steering/tub_8_22-11-03/images/14072_cam_image_array_.jpg']"
      ]
     },
     "execution_count": 17,
     "metadata": {},
     "output_type": "execute_result"
    }
   ],
   "source": [
    "images[:10]"
   ]
  },
  {
   "cell_type": "code",
   "execution_count": 18,
   "id": "7eb3b611-a566-410b-8422-4e545a48a500",
   "metadata": {},
   "outputs": [],
   "source": [
    "labels = [0]*len(images)"
   ]
  },
  {
   "cell_type": "code",
   "execution_count": 20,
   "id": "f15c430b-1004-48f2-9786-4aa22b4647c6",
   "metadata": {},
   "outputs": [],
   "source": [
    "for subdir_name in [\"left\", \"right\"]:\n",
    "    subdir_path = join(data_path_arrow, subdir_name)\n",
    "    label = 1 if subdir_name == \"left\" else 2\n",
    "    for img in os.listdir(subdir_path):\n",
    "        images.append(join(subdir_path, img))\n",
    "        labels.append(label)"
   ]
  },
  {
   "cell_type": "code",
   "execution_count": 21,
   "id": "2802b9a9-52d5-4cef-ba50-c46a154b7d31",
   "metadata": {},
   "outputs": [],
   "source": [
    "corrupt_images = []\n",
    "for i, img in enumerate(images):\n",
    "    if cv2.imread(img) is None:\n",
    "        corrupt_images.append(img)\n",
    "        print(images[i])\n",
    "        print(images.pop(i))\n",
    "        print(labels.pop(i))\n",
    "        print()"
   ]
  },
  {
   "cell_type": "code",
   "execution_count": 22,
   "id": "bf84e119-ce27-4bdf-bce5-08a309a3bea0",
   "metadata": {},
   "outputs": [
    {
     "data": {
      "text/plain": [
       "0"
      ]
     },
     "execution_count": 22,
     "metadata": {},
     "output_type": "execute_result"
    }
   ],
   "source": [
    "len(corrupt_images)"
   ]
  },
  {
   "cell_type": "markdown",
   "id": "d686b646-52fb-43cf-8b70-da6d7cd7c00c",
   "metadata": {},
   "source": [
    "# Prepare Data Pipeline"
   ]
  },
  {
   "cell_type": "code",
   "execution_count": 29,
   "id": "fc442854-a718-4045-90a1-cf7316b3e15a",
   "metadata": {},
   "outputs": [],
   "source": [
    "X_train, X_test, y_train, y_test = train_test_split(images, labels, test_size=0.1, shuffle=True, random_state=2022)\n",
    "X_train, X_val, y_train, y_val = train_test_split(X_train, y_train, test_size=0.2, shuffle=True, random_state=2022)"
   ]
  },
  {
   "cell_type": "code",
   "execution_count": 30,
   "id": "18139743-19f9-4308-a5da-9142c469c676",
   "metadata": {},
   "outputs": [],
   "source": [
    "mean = [0.4251, 0.4787, 0.4311]  # calculated in the separate notebook\n",
    "std = [0.2203, 0.2276, 0.2366]  # calculated in the separate notebook\n",
    "\n",
    "\n",
    "def apply_normalization(cv_image_rgb_uint8):\n",
    "    image = np.float32(cv_image_rgb_uint8) / 255.0\n",
    "    image -= mean\n",
    "    image /= std\n",
    "    return image\n",
    "\n",
    "\n",
    "def reverse_normalization(cv_image_rgb_float32):\n",
    "    image = cv_image_rgb_float32 * std\n",
    "    image += mean\n",
    "    image *= 255\n",
    "    image = image.astype(np.uint8)\n",
    "    return image"
   ]
  },
  {
   "cell_type": "code",
   "execution_count": 38,
   "id": "e1a5f833-b003-4299-9588-bcfe343e2ece",
   "metadata": {},
   "outputs": [],
   "source": [
    "def transforms(cv_image_rgb):\n",
    "    # cv_image_rgb = cv_image_rgb[160:-160, ...] # cropping x\n",
    "    return apply_normalization(cv_image_rgb)\n",
    "\n",
    "\n",
    "def load_image(image_path):\n",
    "    image_bgr = cv2.imread(image_path.numpy().decode(\"utf-8\"))\n",
    "    image_rgb = cv2.cvtColor(image_bgr, cv2.COLOR_BGR2RGB)\n",
    "    image_rgb = transforms(image_rgb)\n",
    "    return tf.convert_to_tensor(image_rgb)\n",
    "\n",
    "\n",
    "def preprocess_labels(label):\n",
    "    return tf.expand_dims(tf.cast(label, \"float32\"), axis=-1)\n",
    "\n",
    "\n",
    "def configure_dataset(ds):\n",
    "    # Keep the images in memory after they're loaded off disk during the first epoch\n",
    "    ds = ds.cache()\n",
    "    # Drop elements that cause errors\n",
    "    ds = ds.apply(tf.data.experimental.ignore_errors())\n",
    "    # Wrap the 'load_image' call inside 'tf.py_function' due to https://github.com/tensorflow/tensorflow/issues/30653\n",
    "    ds = ds.map(lambda image_path, label: (\n",
    "        tf.py_function(load_image, [image_path], tf.float32),\n",
    "        tf.py_function(preprocess_labels, [label], np.float32)\n",
    "    ), num_parallel_calls=tf.data.experimental.AUTOTUNE)\n",
    "    # Create batches\n",
    "    ds = ds.batch(64)\n",
    "    # prepare later elements while the current element is being processed\n",
    "    ds = ds.prefetch(buffer_size=tf.data.experimental.AUTOTUNE)\n",
    "    return ds\n",
    "\n",
    "\n",
    "ds_train = tf.data.Dataset.from_tensor_slices((X_train, y_train))\n",
    "ds_val = tf.data.Dataset.from_tensor_slices((X_val, y_val))\n",
    "ds_test = tf.data.Dataset.from_tensor_slices((X_test, y_test))\n",
    "\n",
    "ds_train = configure_dataset(ds_train)\n",
    "ds_val = configure_dataset(ds_val)\n",
    "ds_test = configure_dataset(ds_test)"
   ]
  },
  {
   "cell_type": "code",
   "execution_count": 39,
   "id": "a7c46546-d080-49d3-8a55-abfc8d472d64",
   "metadata": {},
   "outputs": [
    {
     "ename": "InvalidArgumentError",
     "evalue": "Cannot add tensor to the batch: number of elements does not match. Shapes are: [tensor]: [480,640,3], [batch]: [120,160,3]",
     "output_type": "error",
     "traceback": [
      "\u001b[0;31m---------------------------------------------------------------------------\u001b[0m",
      "\u001b[0;31mInvalidArgumentError\u001b[0m                      Traceback (most recent call last)",
      "\u001b[0;32m~/opt/anaconda3/envs/donkey/lib/python3.7/site-packages/tensorflow/python/eager/context.py\u001b[0m in \u001b[0;36mexecution_mode\u001b[0;34m(mode)\u001b[0m\n\u001b[1;32m   1985\u001b[0m       \u001b[0mctx\u001b[0m\u001b[0;34m.\u001b[0m\u001b[0mexecutor\u001b[0m \u001b[0;34m=\u001b[0m \u001b[0mexecutor_new\u001b[0m\u001b[0;34m\u001b[0m\u001b[0;34m\u001b[0m\u001b[0m\n\u001b[0;32m-> 1986\u001b[0;31m       \u001b[0;32myield\u001b[0m\u001b[0;34m\u001b[0m\u001b[0;34m\u001b[0m\u001b[0m\n\u001b[0m\u001b[1;32m   1987\u001b[0m     \u001b[0;32mfinally\u001b[0m\u001b[0;34m:\u001b[0m\u001b[0;34m\u001b[0m\u001b[0;34m\u001b[0m\u001b[0m\n",
      "\u001b[0;32m~/opt/anaconda3/envs/donkey/lib/python3.7/site-packages/tensorflow/python/data/ops/iterator_ops.py\u001b[0m in \u001b[0;36m_next_internal\u001b[0;34m(self)\u001b[0m\n\u001b[1;32m    654\u001b[0m             \u001b[0moutput_types\u001b[0m\u001b[0;34m=\u001b[0m\u001b[0mself\u001b[0m\u001b[0;34m.\u001b[0m\u001b[0m_flat_output_types\u001b[0m\u001b[0;34m,\u001b[0m\u001b[0;34m\u001b[0m\u001b[0;34m\u001b[0m\u001b[0m\n\u001b[0;32m--> 655\u001b[0;31m             output_shapes=self._flat_output_shapes)\n\u001b[0m\u001b[1;32m    656\u001b[0m \u001b[0;34m\u001b[0m\u001b[0m\n",
      "\u001b[0;32m~/opt/anaconda3/envs/donkey/lib/python3.7/site-packages/tensorflow/python/ops/gen_dataset_ops.py\u001b[0m in \u001b[0;36miterator_get_next\u001b[0;34m(iterator, output_types, output_shapes, name)\u001b[0m\n\u001b[1;32m   2362\u001b[0m     \u001b[0;32mexcept\u001b[0m \u001b[0m_core\u001b[0m\u001b[0;34m.\u001b[0m\u001b[0m_NotOkStatusException\u001b[0m \u001b[0;32mas\u001b[0m \u001b[0me\u001b[0m\u001b[0;34m:\u001b[0m\u001b[0;34m\u001b[0m\u001b[0;34m\u001b[0m\u001b[0m\n\u001b[0;32m-> 2363\u001b[0;31m       \u001b[0m_ops\u001b[0m\u001b[0;34m.\u001b[0m\u001b[0mraise_from_not_ok_status\u001b[0m\u001b[0;34m(\u001b[0m\u001b[0me\u001b[0m\u001b[0;34m,\u001b[0m \u001b[0mname\u001b[0m\u001b[0;34m)\u001b[0m\u001b[0;34m\u001b[0m\u001b[0;34m\u001b[0m\u001b[0m\n\u001b[0m\u001b[1;32m   2364\u001b[0m   \u001b[0;31m# Add nodes to the TensorFlow graph.\u001b[0m\u001b[0;34m\u001b[0m\u001b[0;34m\u001b[0m\u001b[0;34m\u001b[0m\u001b[0m\n",
      "\u001b[0;32m~/opt/anaconda3/envs/donkey/lib/python3.7/site-packages/tensorflow/python/framework/ops.py\u001b[0m in \u001b[0;36mraise_from_not_ok_status\u001b[0;34m(e, name)\u001b[0m\n\u001b[1;32m   6652\u001b[0m   \u001b[0;31m# pylint: disable=protected-access\u001b[0m\u001b[0;34m\u001b[0m\u001b[0;34m\u001b[0m\u001b[0;34m\u001b[0m\u001b[0m\n\u001b[0;32m-> 6653\u001b[0;31m   \u001b[0msix\u001b[0m\u001b[0;34m.\u001b[0m\u001b[0mraise_from\u001b[0m\u001b[0;34m(\u001b[0m\u001b[0mcore\u001b[0m\u001b[0;34m.\u001b[0m\u001b[0m_status_to_exception\u001b[0m\u001b[0;34m(\u001b[0m\u001b[0me\u001b[0m\u001b[0;34m.\u001b[0m\u001b[0mcode\u001b[0m\u001b[0;34m,\u001b[0m \u001b[0mmessage\u001b[0m\u001b[0;34m)\u001b[0m\u001b[0;34m,\u001b[0m \u001b[0;32mNone\u001b[0m\u001b[0;34m)\u001b[0m\u001b[0;34m\u001b[0m\u001b[0;34m\u001b[0m\u001b[0m\n\u001b[0m\u001b[1;32m   6654\u001b[0m   \u001b[0;31m# pylint: enable=protected-access\u001b[0m\u001b[0;34m\u001b[0m\u001b[0;34m\u001b[0m\u001b[0;34m\u001b[0m\u001b[0m\n",
      "\u001b[0;32m~/opt/anaconda3/envs/donkey/lib/python3.7/site-packages/six.py\u001b[0m in \u001b[0;36mraise_from\u001b[0;34m(value, from_value)\u001b[0m\n",
      "\u001b[0;31mInvalidArgumentError\u001b[0m: Cannot add tensor to the batch: number of elements does not match. Shapes are: [tensor]: [480,640,3], [batch]: [120,160,3] [Op:IteratorGetNext]",
      "\nDuring handling of the above exception, another exception occurred:\n",
      "\u001b[0;31mInvalidArgumentError\u001b[0m                      Traceback (most recent call last)",
      "\u001b[0;32m/var/folders/t6/65sjhddn7_19zhh_jnkv0yym0000gp/T/ipykernel_16264/954856031.py\u001b[0m in \u001b[0;36m<module>\u001b[0;34m\u001b[0m\n\u001b[0;32m----> 1\u001b[0;31m \u001b[0mimage_batch\u001b[0m\u001b[0;34m,\u001b[0m \u001b[0mlabel_batch\u001b[0m \u001b[0;34m=\u001b[0m \u001b[0mnext\u001b[0m\u001b[0;34m(\u001b[0m\u001b[0miter\u001b[0m\u001b[0;34m(\u001b[0m\u001b[0mds_train\u001b[0m\u001b[0;34m)\u001b[0m\u001b[0;34m)\u001b[0m\u001b[0;34m\u001b[0m\u001b[0;34m\u001b[0m\u001b[0m\n\u001b[0m\u001b[1;32m      2\u001b[0m \u001b[0mprint\u001b[0m\u001b[0;34m(\u001b[0m\u001b[0mimage_batch\u001b[0m\u001b[0;34m.\u001b[0m\u001b[0mshape\u001b[0m\u001b[0;34m)\u001b[0m\u001b[0;34m\u001b[0m\u001b[0;34m\u001b[0m\u001b[0m\n\u001b[1;32m      3\u001b[0m \u001b[0mprint\u001b[0m\u001b[0;34m(\u001b[0m\u001b[0mlabel_batch\u001b[0m\u001b[0;34m.\u001b[0m\u001b[0mshape\u001b[0m\u001b[0;34m)\u001b[0m\u001b[0;34m\u001b[0m\u001b[0;34m\u001b[0m\u001b[0m\n\u001b[1;32m      4\u001b[0m \u001b[0mplt\u001b[0m\u001b[0;34m.\u001b[0m\u001b[0mfigure\u001b[0m\u001b[0;34m(\u001b[0m\u001b[0mfigsize\u001b[0m\u001b[0;34m=\u001b[0m\u001b[0;34m(\u001b[0m\u001b[0;36m10\u001b[0m\u001b[0;34m,\u001b[0m \u001b[0;36m10\u001b[0m\u001b[0;34m)\u001b[0m\u001b[0;34m)\u001b[0m\u001b[0;34m\u001b[0m\u001b[0;34m\u001b[0m\u001b[0m\n\u001b[1;32m      5\u001b[0m \u001b[0;32mfor\u001b[0m \u001b[0mi\u001b[0m \u001b[0;32min\u001b[0m \u001b[0mrange\u001b[0m\u001b[0;34m(\u001b[0m\u001b[0;36m9\u001b[0m\u001b[0;34m)\u001b[0m\u001b[0;34m:\u001b[0m\u001b[0;34m\u001b[0m\u001b[0;34m\u001b[0m\u001b[0m\n",
      "\u001b[0;32m~/opt/anaconda3/envs/donkey/lib/python3.7/site-packages/tensorflow/python/data/ops/iterator_ops.py\u001b[0m in \u001b[0;36m__next__\u001b[0;34m(self)\u001b[0m\n\u001b[1;32m    629\u001b[0m \u001b[0;34m\u001b[0m\u001b[0m\n\u001b[1;32m    630\u001b[0m   \u001b[0;32mdef\u001b[0m \u001b[0m__next__\u001b[0m\u001b[0;34m(\u001b[0m\u001b[0mself\u001b[0m\u001b[0;34m)\u001b[0m\u001b[0;34m:\u001b[0m  \u001b[0;31m# For Python 3 compatibility\u001b[0m\u001b[0;34m\u001b[0m\u001b[0;34m\u001b[0m\u001b[0m\n\u001b[0;32m--> 631\u001b[0;31m     \u001b[0;32mreturn\u001b[0m \u001b[0mself\u001b[0m\u001b[0;34m.\u001b[0m\u001b[0mnext\u001b[0m\u001b[0;34m(\u001b[0m\u001b[0;34m)\u001b[0m\u001b[0;34m\u001b[0m\u001b[0;34m\u001b[0m\u001b[0m\n\u001b[0m\u001b[1;32m    632\u001b[0m \u001b[0;34m\u001b[0m\u001b[0m\n\u001b[1;32m    633\u001b[0m   \u001b[0;32mdef\u001b[0m \u001b[0m_next_internal\u001b[0m\u001b[0;34m(\u001b[0m\u001b[0mself\u001b[0m\u001b[0;34m)\u001b[0m\u001b[0;34m:\u001b[0m\u001b[0;34m\u001b[0m\u001b[0;34m\u001b[0m\u001b[0m\n",
      "\u001b[0;32m~/opt/anaconda3/envs/donkey/lib/python3.7/site-packages/tensorflow/python/data/ops/iterator_ops.py\u001b[0m in \u001b[0;36mnext\u001b[0;34m(self)\u001b[0m\n\u001b[1;32m    668\u001b[0m     \u001b[0;34m\"\"\"Returns a nested structure of `Tensor`s containing the next element.\"\"\"\u001b[0m\u001b[0;34m\u001b[0m\u001b[0;34m\u001b[0m\u001b[0m\n\u001b[1;32m    669\u001b[0m     \u001b[0;32mtry\u001b[0m\u001b[0;34m:\u001b[0m\u001b[0;34m\u001b[0m\u001b[0;34m\u001b[0m\u001b[0m\n\u001b[0;32m--> 670\u001b[0;31m       \u001b[0;32mreturn\u001b[0m \u001b[0mself\u001b[0m\u001b[0;34m.\u001b[0m\u001b[0m_next_internal\u001b[0m\u001b[0;34m(\u001b[0m\u001b[0;34m)\u001b[0m\u001b[0;34m\u001b[0m\u001b[0;34m\u001b[0m\u001b[0m\n\u001b[0m\u001b[1;32m    671\u001b[0m     \u001b[0;32mexcept\u001b[0m \u001b[0merrors\u001b[0m\u001b[0;34m.\u001b[0m\u001b[0mOutOfRangeError\u001b[0m\u001b[0;34m:\u001b[0m\u001b[0;34m\u001b[0m\u001b[0;34m\u001b[0m\u001b[0m\n\u001b[1;32m    672\u001b[0m       \u001b[0;32mraise\u001b[0m \u001b[0mStopIteration\u001b[0m\u001b[0;34m\u001b[0m\u001b[0;34m\u001b[0m\u001b[0m\n",
      "\u001b[0;32m~/opt/anaconda3/envs/donkey/lib/python3.7/site-packages/tensorflow/python/data/ops/iterator_ops.py\u001b[0m in \u001b[0;36m_next_internal\u001b[0;34m(self)\u001b[0m\n\u001b[1;32m    659\u001b[0m         \u001b[0;32mreturn\u001b[0m \u001b[0mself\u001b[0m\u001b[0;34m.\u001b[0m\u001b[0m_element_spec\u001b[0m\u001b[0;34m.\u001b[0m\u001b[0m_from_compatible_tensor_list\u001b[0m\u001b[0;34m(\u001b[0m\u001b[0mret\u001b[0m\u001b[0;34m)\u001b[0m  \u001b[0;31m# pylint: disable=protected-access\u001b[0m\u001b[0;34m\u001b[0m\u001b[0;34m\u001b[0m\u001b[0m\n\u001b[1;32m    660\u001b[0m       \u001b[0;32mexcept\u001b[0m \u001b[0mAttributeError\u001b[0m\u001b[0;34m:\u001b[0m\u001b[0;34m\u001b[0m\u001b[0;34m\u001b[0m\u001b[0m\n\u001b[0;32m--> 661\u001b[0;31m         \u001b[0;32mreturn\u001b[0m \u001b[0mstructure\u001b[0m\u001b[0;34m.\u001b[0m\u001b[0mfrom_compatible_tensor_list\u001b[0m\u001b[0;34m(\u001b[0m\u001b[0mself\u001b[0m\u001b[0;34m.\u001b[0m\u001b[0m_element_spec\u001b[0m\u001b[0;34m,\u001b[0m \u001b[0mret\u001b[0m\u001b[0;34m)\u001b[0m\u001b[0;34m\u001b[0m\u001b[0;34m\u001b[0m\u001b[0m\n\u001b[0m\u001b[1;32m    662\u001b[0m \u001b[0;34m\u001b[0m\u001b[0m\n\u001b[1;32m    663\u001b[0m   \u001b[0;34m@\u001b[0m\u001b[0mproperty\u001b[0m\u001b[0;34m\u001b[0m\u001b[0;34m\u001b[0m\u001b[0m\n",
      "\u001b[0;32m~/opt/anaconda3/envs/donkey/lib/python3.7/contextlib.py\u001b[0m in \u001b[0;36m__exit__\u001b[0;34m(self, type, value, traceback)\u001b[0m\n\u001b[1;32m    128\u001b[0m                 \u001b[0mvalue\u001b[0m \u001b[0;34m=\u001b[0m \u001b[0mtype\u001b[0m\u001b[0;34m(\u001b[0m\u001b[0;34m)\u001b[0m\u001b[0;34m\u001b[0m\u001b[0;34m\u001b[0m\u001b[0m\n\u001b[1;32m    129\u001b[0m             \u001b[0;32mtry\u001b[0m\u001b[0;34m:\u001b[0m\u001b[0;34m\u001b[0m\u001b[0;34m\u001b[0m\u001b[0m\n\u001b[0;32m--> 130\u001b[0;31m                 \u001b[0mself\u001b[0m\u001b[0;34m.\u001b[0m\u001b[0mgen\u001b[0m\u001b[0;34m.\u001b[0m\u001b[0mthrow\u001b[0m\u001b[0;34m(\u001b[0m\u001b[0mtype\u001b[0m\u001b[0;34m,\u001b[0m \u001b[0mvalue\u001b[0m\u001b[0;34m,\u001b[0m \u001b[0mtraceback\u001b[0m\u001b[0;34m)\u001b[0m\u001b[0;34m\u001b[0m\u001b[0;34m\u001b[0m\u001b[0m\n\u001b[0m\u001b[1;32m    131\u001b[0m             \u001b[0;32mexcept\u001b[0m \u001b[0mStopIteration\u001b[0m \u001b[0;32mas\u001b[0m \u001b[0mexc\u001b[0m\u001b[0;34m:\u001b[0m\u001b[0;34m\u001b[0m\u001b[0;34m\u001b[0m\u001b[0m\n\u001b[1;32m    132\u001b[0m                 \u001b[0;31m# Suppress StopIteration *unless* it's the same exception that\u001b[0m\u001b[0;34m\u001b[0m\u001b[0;34m\u001b[0m\u001b[0;34m\u001b[0m\u001b[0m\n",
      "\u001b[0;32m~/opt/anaconda3/envs/donkey/lib/python3.7/site-packages/tensorflow/python/eager/context.py\u001b[0m in \u001b[0;36mexecution_mode\u001b[0;34m(mode)\u001b[0m\n\u001b[1;32m   1987\u001b[0m     \u001b[0;32mfinally\u001b[0m\u001b[0;34m:\u001b[0m\u001b[0;34m\u001b[0m\u001b[0;34m\u001b[0m\u001b[0m\n\u001b[1;32m   1988\u001b[0m       \u001b[0mctx\u001b[0m\u001b[0;34m.\u001b[0m\u001b[0mexecutor\u001b[0m \u001b[0;34m=\u001b[0m \u001b[0mexecutor_old\u001b[0m\u001b[0;34m\u001b[0m\u001b[0;34m\u001b[0m\u001b[0m\n\u001b[0;32m-> 1989\u001b[0;31m       \u001b[0mexecutor_new\u001b[0m\u001b[0;34m.\u001b[0m\u001b[0mwait\u001b[0m\u001b[0;34m(\u001b[0m\u001b[0;34m)\u001b[0m\u001b[0;34m\u001b[0m\u001b[0;34m\u001b[0m\u001b[0m\n\u001b[0m\u001b[1;32m   1990\u001b[0m \u001b[0;34m\u001b[0m\u001b[0m\n\u001b[1;32m   1991\u001b[0m \u001b[0;34m\u001b[0m\u001b[0m\n",
      "\u001b[0;32m~/opt/anaconda3/envs/donkey/lib/python3.7/site-packages/tensorflow/python/eager/executor.py\u001b[0m in \u001b[0;36mwait\u001b[0;34m(self)\u001b[0m\n\u001b[1;32m     65\u001b[0m   \u001b[0;32mdef\u001b[0m \u001b[0mwait\u001b[0m\u001b[0;34m(\u001b[0m\u001b[0mself\u001b[0m\u001b[0;34m)\u001b[0m\u001b[0;34m:\u001b[0m\u001b[0;34m\u001b[0m\u001b[0;34m\u001b[0m\u001b[0m\n\u001b[1;32m     66\u001b[0m     \u001b[0;34m\"\"\"Waits for ops dispatched in this executor to finish.\"\"\"\u001b[0m\u001b[0;34m\u001b[0m\u001b[0;34m\u001b[0m\u001b[0m\n\u001b[0;32m---> 67\u001b[0;31m     \u001b[0mpywrap_tfe\u001b[0m\u001b[0;34m.\u001b[0m\u001b[0mTFE_ExecutorWaitForAllPendingNodes\u001b[0m\u001b[0;34m(\u001b[0m\u001b[0mself\u001b[0m\u001b[0;34m.\u001b[0m\u001b[0m_handle\u001b[0m\u001b[0;34m)\u001b[0m\u001b[0;34m\u001b[0m\u001b[0;34m\u001b[0m\u001b[0m\n\u001b[0m\u001b[1;32m     68\u001b[0m \u001b[0;34m\u001b[0m\u001b[0m\n\u001b[1;32m     69\u001b[0m   \u001b[0;32mdef\u001b[0m \u001b[0mclear_error\u001b[0m\u001b[0;34m(\u001b[0m\u001b[0mself\u001b[0m\u001b[0;34m)\u001b[0m\u001b[0;34m:\u001b[0m\u001b[0;34m\u001b[0m\u001b[0;34m\u001b[0m\u001b[0m\n",
      "\u001b[0;31mInvalidArgumentError\u001b[0m: Cannot add tensor to the batch: number of elements does not match. Shapes are: [tensor]: [480,640,3], [batch]: [120,160,3]"
     ]
    }
   ],
   "source": [
    "image_batch, label_batch = next(iter(ds_train))\n",
    "print(image_batch.shape)\n",
    "print(label_batch.shape)\n",
    "plt.figure(figsize=(10, 10))\n",
    "for i in range(9):\n",
    "    ax = plt.subplot(3, 3, i + 1)\n",
    "    plt.imshow(reverse_normalization(image_batch[-i].numpy()))\n",
    "    # plt.imshow((image_batch[-i].numpy() * 255).astype(np.uint8))\n",
    "    plt.title(label_batch[-i].numpy())\n",
    "    plt.axis(\"off\")"
   ]
  },
  {
   "cell_type": "markdown",
   "id": "13c400c5-5708-4419-af2d-7022cfbd8ec3",
   "metadata": {},
   "source": [
    "# Train the Model"
   ]
  },
  {
   "cell_type": "code",
   "execution_count": 36,
   "id": "86ef1ea5",
   "metadata": {
    "collapsed": false,
    "jupyter": {
     "outputs_hidden": false
    }
   },
   "outputs": [
    {
     "name": "stdout",
     "output_type": "stream",
     "text": [
      "Train [1/5, 50/?]: Loss 0.686127096414566, Accuracy 0.5646875\n",
      "Train [1/5, 100/?]: Loss 0.6473814523220063, Accuracy 0.6334375\n",
      "Train [1/5, 150/?]: Loss 0.596348425745964, Accuracy 0.694375\n",
      "Train [1/5, 200/?]: Loss 0.5703345572948456, Accuracy 0.7265625\n",
      "Train [1/5, 250/?]: Loss 0.5412954539060593, Accuracy 0.736875\n",
      "Train [1/5, 300/?]: Loss 0.4844585227966309, Accuracy 0.780625\n",
      "Train [1/5, 350/?]: Loss 0.4254012280702591, Accuracy 0.8203125\n",
      "Val [1/5, 50/?]: Loss 0.43557938635349275, Accuracy 0.8521875\n",
      "Train [2/5, 50/?]: Loss 0.40810850739479065, Accuracy 0.8228125\n",
      "Train [2/5, 100/?]: Loss 0.3598531287908554, Accuracy 0.8553125\n",
      "Train [2/5, 150/?]: Loss 0.3277002930641174, Accuracy 0.866875\n",
      "Train [2/5, 200/?]: Loss 0.3144297954440117, Accuracy 0.880625\n",
      "Train [2/5, 250/?]: Loss 0.28997500509023666, Accuracy 0.8890625\n",
      "Train [2/5, 300/?]: Loss 0.2651022055745125, Accuracy 0.89875\n",
      "Train [2/5, 350/?]: Loss 0.24047056585550308, Accuracy 0.9096875\n",
      "Val [2/5, 50/?]: Loss 0.2778524643182754, Accuracy 0.90125\n",
      "Train [3/5, 50/?]: Loss 0.24518198207020758, Accuracy 0.906875\n",
      "Train [3/5, 100/?]: Loss 0.22620002701878547, Accuracy 0.91625\n",
      "Train [3/5, 150/?]: Loss 0.20733122199773787, Accuracy 0.92\n",
      "Train [3/5, 200/?]: Loss 0.20709943458437918, Accuracy 0.921875\n",
      "Train [3/5, 250/?]: Loss 0.19420609906315803, Accuracy 0.9284375\n",
      "Train [3/5, 300/?]: Loss 0.17729120559990405, Accuracy 0.9359375\n",
      "Train [3/5, 350/?]: Loss 0.15850305870175363, Accuracy 0.9459375\n",
      "Val [3/5, 50/?]: Loss 0.19098906069993973, Accuracy 0.9334375\n",
      "Train [4/5, 50/?]: Loss 0.17860951766371727, Accuracy 0.931875\n",
      "Train [4/5, 100/?]: Loss 0.1593490719795227, Accuracy 0.9415625\n",
      "Train [4/5, 150/?]: Loss 0.1410038961470127, Accuracy 0.949375\n",
      "Train [4/5, 200/?]: Loss 0.14521560892462732, Accuracy 0.9478125\n",
      "Train [4/5, 250/?]: Loss 0.14316512674093246, Accuracy 0.94625\n",
      "Train [4/5, 300/?]: Loss 0.12273910015821457, Accuracy 0.95625\n",
      "Train [4/5, 350/?]: Loss 0.13065056197345257, Accuracy 0.9490625\n",
      "Val [4/5, 50/?]: Loss 0.1421995761990547, Accuracy 0.9571875\n",
      "Train [5/5, 50/?]: Loss 0.13395775586366654, Accuracy 0.9525\n",
      "Train [5/5, 100/?]: Loss 0.11918516244739294, Accuracy 0.9565625\n",
      "Train [5/5, 150/?]: Loss 0.11145212166011334, Accuracy 0.963125\n",
      "Train [5/5, 200/?]: Loss 0.11461930088698864, Accuracy 0.95625\n",
      "Train [5/5, 250/?]: Loss 0.11441051974892616, Accuracy 0.9596875\n",
      "Train [5/5, 300/?]: Loss 0.10910415150225163, Accuracy 0.9625\n",
      "Train [5/5, 350/?]: Loss 0.0909598621726036, Accuracy 0.971875\n",
      "Val [5/5, 50/?]: Loss 0.11553937524557113, Accuracy 0.9640625\n"
     ]
    }
   ],
   "source": [
    "# TODO plotting\n",
    "# TODO Augmentation\n",
    "# TODO add confusion matrix and choose a threshold using ROC\n",
    "\n",
    "model = tf.keras.Sequential([\n",
    "    InputLayer(input_shape=(70, 160, 3)),\n",
    "    Conv2D(8, (3, 3), activation='relu'),\n",
    "    MaxPooling2D(2, 2),\n",
    "    Dropout(0.25),\n",
    "    Conv2D(16, (3, 3), activation='relu'),\n",
    "    MaxPooling2D(2, 2),\n",
    "    Dropout(0.25),\n",
    "    Conv2D(32, (3, 3), activation='relu'),\n",
    "    MaxPooling2D(2, 2),\n",
    "    Dropout(0.25),\n",
    "    Flatten(),\n",
    "    Dense(128, activation='relu'),\n",
    "    Dropout(0.2),\n",
    "    Dense(1, activation='sigmoid'),\n",
    "])\n",
    "\n",
    "n_epochs = 5\n",
    "log_frequency = 50\n",
    "threshold = 0.5\n",
    "\n",
    "optimizer = tf.keras.optimizers.Adam(learning_rate=0.0001)\n",
    "criterion = tf.keras.losses.BinaryCrossentropy()\n",
    "\n",
    "train_loss_history = []\n",
    "train_accuracy_history = []\n",
    "val_loss_history = []\n",
    "val_accuracy_history = []\n",
    "\n",
    "for epoch in range(n_epochs):\n",
    "    step = 0\n",
    "    # Training\n",
    "    total_loss = 0.0\n",
    "    total_accuracy = 0.0\n",
    "    running_loss = 0.0\n",
    "    running_accuracy = 0.0\n",
    "    for step, (image_batch, label_batch) in enumerate(ds_train):\n",
    "        with tf.GradientTape() as tape:\n",
    "            logits = model(image_batch, training=True)\n",
    "            loss_value = criterion(label_batch, logits)\n",
    "        gradients = tape.gradient(loss_value, model.trainable_weights)\n",
    "        optimizer.apply_gradients(zip(gradients, model.trainable_weights))\n",
    "\n",
    "        # Metrics and Logging\n",
    "        current_loss = loss_value.numpy()\n",
    "        current_accuracy = accuracy_score(label_batch, logits > threshold)\n",
    "\n",
    "        total_loss += current_loss\n",
    "        total_accuracy += current_accuracy\n",
    "        running_loss += current_loss\n",
    "        running_accuracy += current_accuracy\n",
    "\n",
    "        if (step + 1) % log_frequency == 0:\n",
    "            print(\n",
    "                f'Train [{epoch + 1}/{n_epochs}, {step + 1}/?]: '\n",
    "                f'Loss {running_loss / log_frequency}, '\n",
    "                f'Accuracy {running_accuracy / log_frequency}'\n",
    "            )\n",
    "            running_loss = 0.0\n",
    "            running_accuracy = 0.0\n",
    "\n",
    "    train_loss_history.append(total_loss / step)\n",
    "    train_accuracy_history.append(total_accuracy / step)\n",
    "\n",
    "    # Validation\n",
    "    total_loss = 0.0\n",
    "    total_accuracy = 0.0\n",
    "    running_loss = 0.0\n",
    "    running_accuracy = 0.0\n",
    "    for step, (image_batch, label_batch) in enumerate(ds_val):\n",
    "        logits = model(image_batch, training=False)\n",
    "        loss_value = criterion(label_batch, logits)\n",
    "\n",
    "        # Metrics and Logging\n",
    "        current_loss = loss_value.numpy()\n",
    "        current_accuracy = accuracy_score(label_batch, logits > threshold)\n",
    "\n",
    "        total_loss += current_loss\n",
    "        total_accuracy += current_accuracy\n",
    "\n",
    "        running_loss += current_loss\n",
    "        running_accuracy += current_accuracy\n",
    "        if (step + 1) % log_frequency == 0:\n",
    "            print(\n",
    "                f'Val [{epoch + 1}/{n_epochs}, {step + 1}/?]: '\n",
    "                f'Loss {running_loss / log_frequency}, '\n",
    "                f'Accuracy {running_accuracy / log_frequency}'\n",
    "            )\n",
    "            running_loss = 0.0\n",
    "            running_accuracy = 0.0\n",
    "\n",
    "    val_loss_history.append(total_loss / step)\n",
    "    val_accuracy_history.append(total_accuracy / step)"
   ]
  },
  {
   "cell_type": "markdown",
   "id": "8906a8e1-8a73-406d-8c57-39fc9275c658",
   "metadata": {},
   "source": [
    "# Evaluate the Model"
   ]
  },
  {
   "cell_type": "code",
   "execution_count": 37,
   "id": "1488665d",
   "metadata": {
    "collapsed": false,
    "jupyter": {
     "outputs_hidden": false
    }
   },
   "outputs": [
    {
     "data": {
      "text/plain": [
       "Text(0.5, 1.0, 'Accuracy')"
      ]
     },
     "execution_count": 37,
     "metadata": {},
     "output_type": "execute_result"
    },
    {
     "data": {
      "image/png": "[encoded data removed]",
      "text/plain": [
       "<Figure size 1600x600 with 2 Axes>"
      ]
     },
     "metadata": {},
     "output_type": "display_data"
    }
   ],
   "source": [
    "plt.figure(figsize=(16, 6))\n",
    "\n",
    "plt.subplot(1, 2, 1)\n",
    "plt.plot(train_loss_history)\n",
    "plt.plot(val_loss_history)\n",
    "plt.xlabel('Epoch')\n",
    "plt.ylabel('Loss')\n",
    "plt.legend(['Training', 'Validation'])\n",
    "plt.title('Loss')\n",
    "\n",
    "plt.subplot(1, 2, 2)\n",
    "plt.plot(train_accuracy_history)\n",
    "plt.plot(val_accuracy_history)\n",
    "plt.xlabel('Epoch')\n",
    "plt.ylabel('Accuracy')\n",
    "plt.legend(['Training', 'Validation'])\n",
    "plt.title('Accuracy')"
   ]
  },
  {
   "cell_type": "code",
   "execution_count": 38,
   "id": "3d7cd660",
   "metadata": {
    "collapsed": false,
    "jupyter": {
     "outputs_hidden": false
    }
   },
   "outputs": [
    {
     "name": "stdout",
     "output_type": "stream",
     "text": [
      "Test Loss: 0.11548969858125144\n",
      "Test Accuracy: 0.9597630718954248\n"
     ]
    }
   ],
   "source": [
    "# Evaluation\n",
    "threshold = 0.5\n",
    "\n",
    "test_loss = 0.0\n",
    "test_accuracy = 0.0\n",
    "batches = 0\n",
    "for step, (image_batch, label_batch) in enumerate(ds_test):\n",
    "    logits = model(image_batch, training=False)\n",
    "    loss_value = criterion(label_batch, logits)\n",
    "\n",
    "    # Metrics and Logging\n",
    "    current_loss = loss_value.numpy()\n",
    "    current_accuracy = accuracy_score(label_batch, logits > threshold)\n",
    "\n",
    "    test_loss += current_loss\n",
    "    test_accuracy += current_accuracy\n",
    "    batches += 1\n",
    "\n",
    "test_loss /= batches\n",
    "test_accuracy /= batches\n",
    "\n",
    "print(f\"Test Loss: {test_loss}\")\n",
    "print(f\"Test Accuracy: {test_accuracy}\")"
   ]
  },
  {
   "cell_type": "code",
   "execution_count": 39,
   "id": "17d4960f-5207-4de8-bb7a-8bd398370541",
   "metadata": {},
   "outputs": [
    {
     "name": "stderr",
     "output_type": "stream",
     "text": [
      "2023-01-15 17:45:28.382715: W tensorflow/python/util/util.cc:329] Sets are not currently considered sequences, but this may change in the future, so consider avoiding using them.\n"
     ]
    },
    {
     "name": "stdout",
     "output_type": "stream",
     "text": [
      "WARNING:tensorflow:From /Users/Pavlo/opt/anaconda3/envs/donkey/lib/python3.7/site-packages/tensorflow/python/ops/resource_variable_ops.py:1817: calling BaseResourceVariable.__init__ (from tensorflow.python.ops.resource_variable_ops) with constraint is deprecated and will be removed in a future version.\n",
      "Instructions for updating:\n",
      "If using Keras pass *_constraint arguments to layers.\n",
      "INFO:tensorflow:Assets written to: pedestrian_detector_v4/assets\n"
     ]
    }
   ],
   "source": [
    "model.save(\"pedestrian_detector_v4\")"
   ]
  },
  {
   "cell_type": "code",
   "execution_count": null,
   "id": "37a72c5c-39a2-452a-bd33-32bb4f51c2ac",
   "metadata": {},
   "outputs": [],
   "source": []
  }
 ],
 "metadata": {
  "kernelspec": {
   "display_name": "donkey",
   "language": "python",
   "name": "python3"
  },
  "language_info": {
   "codemirror_mode": {
    "name": "ipython",
    "version": 3
   },
   "file_extension": ".py",
   "mimetype": "text/x-python",
   "name": "python",
   "nbconvert_exporter": "python",
   "pygments_lexer": "ipython3",
   "version": "3.7.16 (default, Jan 17 2023, 09:28:58) \n[Clang 14.0.6 ]"
  },
  "vscode": {
   "interpreter": {
    "hash": "054af55409fa3f205d62d457bc31581bca42f7dfe328fcd2aaba1256c9f3d1c0"
   }
  }
 },
 "nbformat": 4,
 "nbformat_minor": 5
}
